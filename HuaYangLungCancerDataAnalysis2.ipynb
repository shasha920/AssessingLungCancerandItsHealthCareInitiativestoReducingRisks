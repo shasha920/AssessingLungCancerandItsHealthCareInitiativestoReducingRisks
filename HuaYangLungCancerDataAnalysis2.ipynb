{
 "cells": [
  {
   "cell_type": "markdown",
   "id": "9bf804a4",
   "metadata": {},
   "source": [
    "PROJECT TEAM: HUA YANG, JENNY LAM, OLIVIA MALAGON"
   ]
  },
  {
   "cell_type": "code",
   "execution_count": 1,
   "id": "4ea783d5",
   "metadata": {},
   "outputs": [
    {
     "data": {
      "application/vnd.jupyter.widget-view+json": {
       "model_id": "9e7ac196ecd9405988bf5d31496b319d",
       "version_major": 2,
       "version_minor": 0
      },
      "text/plain": [
       "VBox()"
      ]
     },
     "metadata": {},
     "output_type": "display_data"
    },
    {
     "name": "stdout",
     "output_type": "stream",
     "text": [
      "Starting Spark application\n"
     ]
    },
    {
     "data": {
      "text/html": [
       "<table>\n",
       "<tr><th>ID</th><th>YARN Application ID</th><th>Kind</th><th>State</th><th>Spark UI</th><th>Driver log</th><th>User</th><th>Current session?</th></tr><tr><td>2</td><td>application_1722405245074_0003</td><td>pyspark</td><td>idle</td><td><a target=\"_blank\" href=\"http://ip-172-31-15-207.ec2.internal:20888/proxy/application_1722405245074_0003/\" class=\"emr-proxy-link\" emr-resource=\"j-3118PUT5OOASV\n",
       "\" application-id=\"application_1722405245074_0003\">Link</a></td><td><a target=\"_blank\" href=\"http://ip-172-31-2-94.ec2.internal:8042/node/containerlogs/container_1722405245074_0003_01_000001/livy\" >Link</a></td><td>None</td><td>✔</td></tr></table>"
      ],
      "text/plain": [
       "<IPython.core.display.HTML object>"
      ]
     },
     "metadata": {},
     "output_type": "display_data"
    },
    {
     "data": {
      "application/vnd.jupyter.widget-view+json": {
       "model_id": "",
       "version_major": 2,
       "version_minor": 0
      },
      "text/plain": [
       "FloatProgress(value=0.0, bar_style='info', description='Progress:', layout=Layout(height='25px', width='50%'),…"
      ]
     },
     "metadata": {},
     "output_type": "display_data"
    },
    {
     "name": "stdout",
     "output_type": "stream",
     "text": [
      "SparkSession available as 'spark'.\n"
     ]
    },
    {
     "data": {
      "application/vnd.jupyter.widget-view+json": {
       "model_id": "",
       "version_major": 2,
       "version_minor": 0
      },
      "text/plain": [
       "FloatProgress(value=0.0, bar_style='info', description='Progress:', layout=Layout(height='25px', width='50%'),…"
      ]
     },
     "metadata": {},
     "output_type": "display_data"
    },
    {
     "name": "stdout",
     "output_type": "stream",
     "text": [
      "/mnt1/yarn/usercache/livy/appcache/application_1722405245074_0003/container_1722405245074_0003_01_000001/pyspark.zip/pyspark/pandas/__init__.py:51: UserWarning: 'PYARROW_IGNORE_TIMEZONE' environment variable was not set. It is required to set this environment variable to '1' in both driver and executor sides if you use pyarrow>=2.0.0. pandas-on-Spark will set it for you but it does not work if there is a Spark context already launched."
     ]
    }
   ],
   "source": [
    "#import libary\n",
    "import pyspark.pandas as ps\n",
    "import matplotlib.pyplot as plt\n",
    "ps.set_option('plotting.backend', 'matplotlib')\n",
    "from pyspark.sql import SparkSession\n",
    "from pyspark.sql.functions import col,lit, explode, array\n",
    "from pyspark.ml.classification import LogisticRegression\n",
    "from pyspark.ml.regression import LinearRegression\n",
    "from pyspark.ml.tuning import ParamGridBuilder, CrossValidator\n",
    "from pyspark.ml.classification import GBTClassifier\n",
    "from pyspark.ml.evaluation import BinaryClassificationEvaluator\n",
    "from pyspark.ml.feature import VectorAssembler, StringIndexer,StandardScaler,ChiSqSelector\n",
    "from pyspark.ml.classification import RandomForestClassifier\n",
    "from pyspark.ml.evaluation import MulticlassClassificationEvaluator,RegressionEvaluator\n",
    "from pyspark.ml.clustering import KMeans\n",
    "from pyspark.ml.evaluation import ClusteringEvaluator"
   ]
  },
  {
   "cell_type": "code",
   "execution_count": 2,
   "id": "9c59ca5a",
   "metadata": {},
   "outputs": [
    {
     "data": {
      "application/vnd.jupyter.widget-view+json": {
       "model_id": "3dd6e46cfa8048bbbf69181c4caca1c0",
       "version_major": 2,
       "version_minor": 0
      },
      "text/plain": [
       "VBox()"
      ]
     },
     "metadata": {},
     "output_type": "display_data"
    },
    {
     "data": {
      "application/vnd.jupyter.widget-view+json": {
       "model_id": "",
       "version_major": 2,
       "version_minor": 0
      },
      "text/plain": [
       "FloatProgress(value=0.0, bar_style='info', description='Progress:', layout=Layout(height='25px', width='50%'),…"
      ]
     },
     "metadata": {},
     "output_type": "display_data"
    },
    {
     "name": "stdout",
     "output_type": "stream",
     "text": [
      "   _c0   age  gender diagnosis_date cancer_stage beginning_of_treatment_date family_history  smoking_status   bmi  cholesterol_level  hypertension  asthma  cirrhosis  other_cancer treatment_type end_treatment_date  survived\n",
      "0    1  50.0    Male     2023-04-22    Stage III                  2023-05-02            Yes  Passive Smoker  25.9                208             1       0          0             0      Radiation         2024-04-25         0\n",
      "1    2  65.0    Male     2023-04-07     Stage IV                  2023-04-12             No    Never Smoked  18.9                193             0       0          0             0        Surgery         2025-03-11         0\n",
      "2    3  51.0  Female     2016-02-07    Stage III                  2016-02-13            Yes   Former Smoker  34.6                249             1       1          1             0        Surgery         2017-04-14         1\n",
      "3    4  37.0    Male     2023-12-01      Stage I                  2023-12-03            Yes    Never Smoked  40.2                262             0       0          0             0   Chemotherapy         2024-09-20         0\n",
      "4    5  50.0    Male     2023-01-04     Stage II                  2023-01-12            Yes    Never Smoked  32.6                300             1       1          0             0      Radiation         2024-03-11         0\n",
      "/mnt1/yarn/usercache/livy/appcache/application_1722405245074_0003/container_1722405245074_0003_01_000001/pyspark.zip/pyspark/pandas/utils.py:975: PandasAPIOnSparkAdviceWarning: If `index_col` is not specified for `read_csv`, the default index is attached which can cause additional overhead."
     ]
    }
   ],
   "source": [
    "#Load dataset and drop \"id\"column\n",
    "#based on our another file already explore descriptive statistics\n",
    "#we will drop 'id', 'country' for future build model\n",
    "df = 's3://gba6430-huayang-01/intro/lung_cancer_data.csv'\n",
    "df = ps.read_csv(df)\n",
    "df = df.rename(columns={'Unnamed: 0': 'id'})\n",
    "df = df.drop(columns=['id', 'country'])\n",
    "df.head()"
   ]
  },
  {
   "cell_type": "code",
   "execution_count": 3,
   "id": "33e1597d",
   "metadata": {},
   "outputs": [
    {
     "data": {
      "application/vnd.jupyter.widget-view+json": {
       "model_id": "2d3736189beb4330b97b7bf2cdafda19",
       "version_major": 2,
       "version_minor": 0
      },
      "text/plain": [
       "VBox()"
      ]
     },
     "metadata": {},
     "output_type": "display_data"
    },
    {
     "data": {
      "application/vnd.jupyter.widget-view+json": {
       "model_id": "",
       "version_major": 2,
       "version_minor": 0
      },
      "text/plain": [
       "FloatProgress(value=0.0, bar_style='info', description='Progress:', layout=Layout(height='25px', width='50%'),…"
      ]
     },
     "metadata": {},
     "output_type": "display_data"
    },
    {
     "name": "stdout",
     "output_type": "stream",
     "text": [
      "(10000, 17)"
     ]
    }
   ],
   "source": [
    "#check shape\n",
    "df.shape"
   ]
  },
  {
   "cell_type": "code",
   "execution_count": 4,
   "id": "afe24545",
   "metadata": {},
   "outputs": [
    {
     "data": {
      "application/vnd.jupyter.widget-view+json": {
       "model_id": "2f440acfa48e49c5bda1b07b44f4c194",
       "version_major": 2,
       "version_minor": 0
      },
      "text/plain": [
       "VBox()"
      ]
     },
     "metadata": {},
     "output_type": "display_data"
    },
    {
     "data": {
      "application/vnd.jupyter.widget-view+json": {
       "model_id": "",
       "version_major": 2,
       "version_minor": 0
      },
      "text/plain": [
       "FloatProgress(value=0.0, bar_style='info', description='Progress:', layout=Layout(height='25px', width='50%'),…"
      ]
     },
     "metadata": {},
     "output_type": "display_data"
    },
    {
     "name": "stdout",
     "output_type": "stream",
     "text": [
      "<class 'pyspark.pandas.frame.DataFrame'>\n",
      "Int64Index: 10000 entries, 0 to 9999\n",
      "Data columns (total 17 columns):\n",
      " #   Column                       Non-Null Count  Dtype  \n",
      "---  ------                       --------------  -----  \n",
      " 0   _c0                          10000 non-null  int32  \n",
      " 1   age                          10000 non-null  float64\n",
      " 2   gender                       10000 non-null  object \n",
      " 3   diagnosis_date               10000 non-null  object \n",
      " 4   cancer_stage                 10000 non-null  object \n",
      " 5   beginning_of_treatment_date  10000 non-null  object \n",
      " 6   family_history               10000 non-null  object \n",
      " 7   smoking_status               10000 non-null  object \n",
      " 8   bmi                          10000 non-null  float64\n",
      " 9   cholesterol_level            10000 non-null  int32  \n",
      " 10  hypertension                 10000 non-null  int32  \n",
      " 11  asthma                       10000 non-null  int32  \n",
      " 12  cirrhosis                    10000 non-null  int32  \n",
      " 13  other_cancer                 10000 non-null  int32  \n",
      " 14  treatment_type               10000 non-null  object \n",
      " 15  end_treatment_date           10000 non-null  object \n",
      " 16  survived                     10000 non-null  int32  \n",
      "dtypes: float64(2), int32(7), object(8)"
     ]
    }
   ],
   "source": [
    "#check data info\n",
    "df.info()"
   ]
  },
  {
   "cell_type": "code",
   "execution_count": 5,
   "id": "c294d390",
   "metadata": {},
   "outputs": [
    {
     "data": {
      "application/vnd.jupyter.widget-view+json": {
       "model_id": "",
       "version_major": 2,
       "version_minor": 0
      },
      "text/plain": [
       "FloatProgress(value=0.0, bar_style='info', description='Progress:', layout=Layout(height='25px', width='50%'),…"
      ]
     },
     "metadata": {},
     "output_type": "display_data"
    },
    {
     "data": {
      "text/html": [
       "<table><tr><th>_c0</th><th>age</th><th>gender</th><th>diagnosis_date</th><th>cancer_stage</th><th>beginning_of_treatment_date</th><th>family_history</th><th>smoking_status</th><th>bmi</th><th>cholesterol_level</th><th>hypertension</th><th>asthma</th><th>cirrhosis</th><th>other_cancer</th><th>treatment_type</th><th>end_treatment_date</th><th>survived</th></tr><tr><td>1</td><td>50.0</td><td>Male</td><td>2023-04-22</td><td>Stage III</td><td>2023-05-02</td><td>Yes</td><td>Passive Smoker</td><td>25.9</td><td>208</td><td>1</td><td>0</td><td>0</td><td>0</td><td>Radiation</td><td>2024-04-25</td><td>0</td></tr><tr><td>2</td><td>65.0</td><td>Male</td><td>2023-04-07</td><td>Stage IV</td><td>2023-04-12</td><td>No</td><td>Never Smoked</td><td>18.9</td><td>193</td><td>0</td><td>0</td><td>0</td><td>0</td><td>Surgery</td><td>2025-03-11</td><td>0</td></tr><tr><td>3</td><td>51.0</td><td>Female</td><td>2016-02-07</td><td>Stage III</td><td>2016-02-13</td><td>Yes</td><td>Former Smoker</td><td>34.6</td><td>249</td><td>1</td><td>1</td><td>1</td><td>0</td><td>Surgery</td><td>2017-04-14</td><td>1</td></tr><tr><td>4</td><td>37.0</td><td>Male</td><td>2023-12-01</td><td>Stage I</td><td>2023-12-03</td><td>Yes</td><td>Never Smoked</td><td>40.2</td><td>262</td><td>0</td><td>0</td><td>0</td><td>0</td><td>Chemotherapy</td><td>2024-09-20</td><td>0</td></tr><tr><td>5</td><td>50.0</td><td>Male</td><td>2023-01-04</td><td>Stage II</td><td>2023-01-12</td><td>Yes</td><td>Never Smoked</td><td>32.6</td><td>300</td><td>1</td><td>1</td><td>0</td><td>0</td><td>Radiation</td><td>2024-03-11</td><td>0</td></tr><tr><td>6</td><td>49.0</td><td>Male</td><td>2018-05-23</td><td>Stage IV</td><td>2018-05-30</td><td>No</td><td>Former Smoker</td><td>30.1</td><td>300</td><td>1</td><td>1</td><td>0</td><td>1</td><td>Chemotherapy</td><td>2019-07-07</td><td>0</td></tr><tr><td>7</td><td>51.0</td><td>Female</td><td>2017-02-20</td><td>Stage II</td><td>2017-02-23</td><td>Yes</td><td>Former Smoker</td><td>44.3</td><td>244</td><td>1</td><td>0</td><td>0</td><td>0</td><td>Combined</td><td>2018-10-09</td><td>0</td></tr><tr><td>8</td><td>64.0</td><td>Female</td><td>2021-03-23</td><td>Stage I</td><td>2021-04-03</td><td>Yes</td><td>Passive Smoker</td><td>26.9</td><td>161</td><td>1</td><td>0</td><td>0</td><td>0</td><td>Surgery</td><td>2023-02-13</td><td>0</td></tr><tr><td>9</td><td>56.0</td><td>Male</td><td>2021-12-02</td><td>Stage III</td><td>2021-12-04</td><td>Yes</td><td>Passive Smoker</td><td>40.9</td><td>286</td><td>1</td><td>1</td><td>0</td><td>0</td><td>Chemotherapy</td><td>2023-07-07</td><td>1</td></tr><tr><td>10</td><td>48.0</td><td>Female</td><td>2023-12-26</td><td>Stage II</td><td>2024-01-08</td><td>Yes</td><td>Passive Smoker</td><td>16.2</td><td>223</td><td>1</td><td>1</td><td>1</td><td>0</td><td>Surgery</td><td>2025-08-20</td><td>0</td></tr><tr><td>11</td><td>47.0</td><td>Female</td><td>2019-11-20</td><td>Stage II</td><td>2019-11-23</td><td>Yes</td><td>Passive Smoker</td><td>33.0</td><td>266</td><td>1</td><td>0</td><td>0</td><td>0</td><td>Chemotherapy</td><td>2021-02-13</td><td>0</td></tr><tr><td>12</td><td>67.0</td><td>Female</td><td>2024-05-28</td><td>Stage I</td><td>2024-06-04</td><td>No</td><td>Never Smoked</td><td>17.4</td><td>204</td><td>1</td><td>0</td><td>0</td><td>0</td><td>Surgery</td><td>2026-02-16</td><td>0</td></tr><tr><td>13</td><td>56.0</td><td>Male</td><td>2022-08-09</td><td>Stage III</td><td>2022-08-15</td><td>No</td><td>Current Smoker</td><td>17.9</td><td>211</td><td>1</td><td>1</td><td>0</td><td>1</td><td>Combined</td><td>2023-09-27</td><td>0</td></tr><tr><td>14</td><td>67.0</td><td>Male</td><td>2023-04-14</td><td>Stage III</td><td>2023-04-16</td><td>No</td><td>Former Smoker</td><td>33.0</td><td>295</td><td>1</td><td>1</td><td>0</td><td>0</td><td>Chemotherapy</td><td>2025-01-24</td><td>0</td></tr><tr><td>15</td><td>49.0</td><td>Female</td><td>2021-08-20</td><td>Stage I</td><td>2021-08-24</td><td>Yes</td><td>Current Smoker</td><td>37.5</td><td>244</td><td>1</td><td>1</td><td>0</td><td>0</td><td>Combined</td><td>2023-01-30</td><td>0</td></tr><tr><td>16</td><td>48.0</td><td>Female</td><td>2020-02-29</td><td>Stage I</td><td>2020-03-13</td><td>No</td><td>Passive Smoker</td><td>40.1</td><td>251</td><td>1</td><td>1</td><td>0</td><td>0</td><td>Surgery</td><td>2021-07-04</td><td>1</td></tr><tr><td>17</td><td>45.0</td><td>Male</td><td>2017-08-09</td><td>Stage IV</td><td>2017-08-14</td><td>No</td><td>Former Smoker</td><td>37.9</td><td>251</td><td>1</td><td>1</td><td>0</td><td>0</td><td>Chemotherapy</td><td>2018-05-24</td><td>1</td></tr><tr><td>18</td><td>47.0</td><td>Male</td><td>2015-08-15</td><td>Stage II</td><td>2015-08-16</td><td>Yes</td><td>Passive Smoker</td><td>34.5</td><td>243</td><td>1</td><td>1</td><td>0</td><td>0</td><td>Chemotherapy</td><td>2017-01-02</td><td>0</td></tr><tr><td>19</td><td>56.0</td><td>Male</td><td>2014-07-01</td><td>Stage IV</td><td>2014-07-03</td><td>No</td><td>Passive Smoker</td><td>31.2</td><td>268</td><td>1</td><td>0</td><td>0</td><td>0</td><td>Combined</td><td>2015-08-29</td><td>0</td></tr><tr><td>20</td><td>46.0</td><td>Female</td><td>2015-07-30</td><td>Stage IV</td><td>2015-08-03</td><td>No</td><td>Passive Smoker</td><td>31.8</td><td>251</td><td>1</td><td>0</td><td>0</td><td>0</td><td>Combined</td><td>2016-08-29</td><td>0</td></tr></table><br /><pre>only showing top 20 rows\n",
       "\n",
       "/mnt1/yarn/usercache/livy/appcache/application_1722405245074_0003/container_1722405245074_0003_01_000001/pyspark.zip/pyspark/pandas/utils.py:975: PandasAPIOnSparkAdviceWarning: If `index_col` is not specified for `to_spark`, the existing index is lost when converting to Spark DataFrame.\n",
       "  warnings.warn(message, PandasAPIOnSparkAdviceWarning)</pre>"
      ],
      "text/plain": [
       "<IPython.core.display.HTML object>"
      ]
     },
     "metadata": {},
     "output_type": "display_data"
    }
   ],
   "source": [
    "%%pretty\n",
    "df.to_spark().show()"
   ]
  },
  {
   "cell_type": "code",
   "execution_count": 6,
   "id": "ed0cd6c8",
   "metadata": {},
   "outputs": [
    {
     "data": {
      "application/vnd.jupyter.widget-view+json": {
       "model_id": "7f9d1650da124f6aa69ac1fe558cfdf5",
       "version_major": 2,
       "version_minor": 0
      },
      "text/plain": [
       "VBox()"
      ]
     },
     "metadata": {},
     "output_type": "display_data"
    },
    {
     "data": {
      "application/vnd.jupyter.widget-view+json": {
       "model_id": "",
       "version_major": 2,
       "version_minor": 0
      },
      "text/plain": [
       "FloatProgress(value=0.0, bar_style='info', description='Progress:', layout=Layout(height='25px', width='50%'),…"
      ]
     },
     "metadata": {},
     "output_type": "display_data"
    }
   ],
   "source": [
    "#defien a function to plot histogram of numeric features\n",
    "def plot_hist(df, features, n_rows, n_cols):\n",
    "    fig, ax = plt.subplots(n_rows, n_cols)\n",
    "    fig.tight_layout(pad=1.5)\n",
    "    for i in range(len(features)):\n",
    "        df[features[i]].hist(ax=ax[i//n_cols, i%n_cols], title=features[i])"
   ]
  },
  {
   "cell_type": "code",
   "execution_count": 7,
   "id": "b1c3a474",
   "metadata": {},
   "outputs": [
    {
     "data": {
      "application/vnd.jupyter.widget-view+json": {
       "model_id": "9a88c746f9884e4b9cc13b4f4e2161f7",
       "version_major": 2,
       "version_minor": 0
      },
      "text/plain": [
       "VBox()"
      ]
     },
     "metadata": {},
     "output_type": "display_data"
    },
    {
     "data": {
      "application/vnd.jupyter.widget-view+json": {
       "model_id": "",
       "version_major": 2,
       "version_minor": 0
      },
      "text/plain": [
       "FloatProgress(value=0.0, bar_style='info', description='Progress:', layout=Layout(height='25px', width='50%'),…"
      ]
     },
     "metadata": {},
     "output_type": "display_data"
    },
    {
     "data": {
      "image/png": "[encoded data removed]",
      "text/plain": [
       "<IPython.core.display.Image object>"
      ]
     },
     "metadata": {},
     "output_type": "display_data"
    }
   ],
   "source": [
    "#use histgram plot explore \"bmi\", \"cholesterol_level\" numberical columns\n",
    "features = [\"bmi\", \"cholesterol_level\"]\n",
    "plot_hist(df, features=features, n_rows=2, n_cols=2)\n",
    "%matplot plt"
   ]
  },
  {
   "cell_type": "code",
   "execution_count": 8,
   "id": "d1e4be2f",
   "metadata": {},
   "outputs": [
    {
     "data": {
      "application/vnd.jupyter.widget-view+json": {
       "model_id": "7e63e1107c584fca94595c534bb88026",
       "version_major": 2,
       "version_minor": 0
      },
      "text/plain": [
       "VBox()"
      ]
     },
     "metadata": {},
     "output_type": "display_data"
    },
    {
     "data": {
      "application/vnd.jupyter.widget-view+json": {
       "model_id": "",
       "version_major": 2,
       "version_minor": 0
      },
      "text/plain": [
       "FloatProgress(value=0.0, bar_style='info', description='Progress:', layout=Layout(height='25px', width='50%'),…"
      ]
     },
     "metadata": {},
     "output_type": "display_data"
    },
    {
     "data": {
      "image/png": "[encoded data removed]",
      "text/plain": [
       "<IPython.core.display.Image object>"
      ]
     },
     "metadata": {},
     "output_type": "display_data"
    }
   ],
   "source": [
    "#use boxplot explore \"bmi\" outlier, the result shows no outlier\n",
    "plt.clf()\n",
    "df['bmi'].plot.box()\n",
    "%matplot plt"
   ]
  },
  {
   "cell_type": "code",
   "execution_count": 9,
   "id": "c48094a3",
   "metadata": {},
   "outputs": [
    {
     "data": {
      "application/vnd.jupyter.widget-view+json": {
       "model_id": "59b8f289e6b24a4498abf9aa0d0b144e",
       "version_major": 2,
       "version_minor": 0
      },
      "text/plain": [
       "VBox()"
      ]
     },
     "metadata": {},
     "output_type": "display_data"
    },
    {
     "data": {
      "application/vnd.jupyter.widget-view+json": {
       "model_id": "",
       "version_major": 2,
       "version_minor": 0
      },
      "text/plain": [
       "FloatProgress(value=0.0, bar_style='info', description='Progress:', layout=Layout(height='25px', width='50%'),…"
      ]
     },
     "metadata": {},
     "output_type": "display_data"
    },
    {
     "data": {
      "image/png": "[encoded data removed]",
      "text/plain": [
       "<IPython.core.display.Image object>"
      ]
     },
     "metadata": {},
     "output_type": "display_data"
    }
   ],
   "source": [
    "#use boxplot explore \"cholesterol_level\" outlier, the result shows no outlier\n",
    "plt.clf()\n",
    "df[\"cholesterol_level\"].plot.box()\n",
    "%matplot plt"
   ]
  },
  {
   "cell_type": "code",
   "execution_count": 10,
   "id": "90ed7160",
   "metadata": {},
   "outputs": [
    {
     "data": {
      "application/vnd.jupyter.widget-view+json": {
       "model_id": "45ccc23a21d6464899ffaa66c534802c",
       "version_major": 2,
       "version_minor": 0
      },
      "text/plain": [
       "VBox()"
      ]
     },
     "metadata": {},
     "output_type": "display_data"
    },
    {
     "data": {
      "application/vnd.jupyter.widget-view+json": {
       "model_id": "",
       "version_major": 2,
       "version_minor": 0
      },
      "text/plain": [
       "FloatProgress(value=0.0, bar_style='info', description='Progress:', layout=Layout(height='25px', width='50%'),…"
      ]
     },
     "metadata": {},
     "output_type": "display_data"
    },
    {
     "name": "stdout",
     "output_type": "stream",
     "text": [
      "   _c0   age diagnosis_date beginning_of_treatment_date   bmi  cholesterol_level  hypertension  asthma  cirrhosis  other_cancer end_treatment_date  survived  gender_Female  gender_Male  cancer_stage_Stage I  cancer_stage_Stage II  cancer_stage_Stage III  cancer_stage_Stage IV  family_history_No  family_history_Yes  smoking_status_Current Smoker  smoking_status_Former Smoker  smoking_status_Never Smoked  smoking_status_Passive Smoker  treatment_type_Chemotherapy  treatment_type_Combined  treatment_type_Radiation  treatment_type_Surgery\n",
      "0    1  50.0     2023-04-22                  2023-05-02  25.9                208             1       0          0             0         2024-04-25         0              0            1                     0                      0                       1                      0                  0                   1                              0                             0                            0                              1                            0                        0                         1                       0\n",
      "1    2  65.0     2023-04-07                  2023-04-12  18.9                193             0       0          0             0         2025-03-11         0              0            1                     0                      0                       0                      1                  1                   0                              0                             0                            1                              0                            0                        0                         0                       1\n",
      "2    3  51.0     2016-02-07                  2016-02-13  34.6                249             1       1          1             0         2017-04-14         1              1            0                     0                      0                       1                      0                  0                   1                              0                             1                            0                              0                            0                        0                         0                       1\n",
      "3    4  37.0     2023-12-01                  2023-12-03  40.2                262             0       0          0             0         2024-09-20         0              0            1                     1                      0                       0                      0                  0                   1                              0                             0                            1                              0                            1                        0                         0                       0\n",
      "4    5  50.0     2023-01-04                  2023-01-12  32.6                300             1       1          0             0         2024-03-11         0              0            1                     0                      1                       0                      0                  0                   1                              0                             0                            1                              0                            0                        0                         1                       0"
     ]
    }
   ],
   "source": [
    "#change categarical variable as dummies\n",
    "df = ps.get_dummies(df, columns=[\"gender\",\"cancer_stage\",\"family_history\",\"smoking_status\",\"treatment_type\"], drop_first=False)\n",
    "df.head()"
   ]
  },
  {
   "cell_type": "code",
   "execution_count": 11,
   "id": "58491f5e",
   "metadata": {},
   "outputs": [
    {
     "data": {
      "application/vnd.jupyter.widget-view+json": {
       "model_id": "",
       "version_major": 2,
       "version_minor": 0
      },
      "text/plain": [
       "FloatProgress(value=0.0, bar_style='info', description='Progress:', layout=Layout(height='25px', width='50%'),…"
      ]
     },
     "metadata": {},
     "output_type": "display_data"
    },
    {
     "data": {
      "text/html": [
       "<table><tr><th>_c0</th><th>age</th><th>diagnosis_date</th><th>beginning_of_treatment_date</th><th>bmi</th><th>cholesterol_level</th><th>hypertension</th><th>asthma</th><th>cirrhosis</th><th>other_cancer</th><th>end_treatment_date</th><th>survived</th><th>gender_Female</th><th>gender_Male</th><th>cancer_stage_Stage I</th><th>cancer_stage_Stage II</th><th>cancer_stage_Stage III</th><th>cancer_stage_Stage IV</th><th>family_history_No</th><th>family_history_Yes</th><th>smoking_status_Current Smoker</th><th>smoking_status_Former Smoker</th><th>smoking_status_Never Smoked</th><th>smoking_status_Passive Smoker</th><th>treatment_type_Chemotherapy</th><th>treatment_type_Combined</th><th>treatment_type_Radiation</th><th>treatment_type_Surgery</th></tr><tr><td>1</td><td>50.0</td><td>2023-04-22</td><td>2023-05-02</td><td>25.9</td><td>208</td><td>1</td><td>0</td><td>0</td><td>0</td><td>2024-04-25</td><td>0</td><td>0</td><td>1</td><td>0</td><td>0</td><td>1</td><td>0</td><td>0</td><td>1</td><td>0</td><td>0</td><td>0</td><td>1</td><td>0</td><td>0</td><td>1</td><td>0</td></tr><tr><td>2</td><td>65.0</td><td>2023-04-07</td><td>2023-04-12</td><td>18.9</td><td>193</td><td>0</td><td>0</td><td>0</td><td>0</td><td>2025-03-11</td><td>0</td><td>0</td><td>1</td><td>0</td><td>0</td><td>0</td><td>1</td><td>1</td><td>0</td><td>0</td><td>0</td><td>1</td><td>0</td><td>0</td><td>0</td><td>0</td><td>1</td></tr><tr><td>3</td><td>51.0</td><td>2016-02-07</td><td>2016-02-13</td><td>34.6</td><td>249</td><td>1</td><td>1</td><td>1</td><td>0</td><td>2017-04-14</td><td>1</td><td>1</td><td>0</td><td>0</td><td>0</td><td>1</td><td>0</td><td>0</td><td>1</td><td>0</td><td>1</td><td>0</td><td>0</td><td>0</td><td>0</td><td>0</td><td>1</td></tr><tr><td>4</td><td>37.0</td><td>2023-12-01</td><td>2023-12-03</td><td>40.2</td><td>262</td><td>0</td><td>0</td><td>0</td><td>0</td><td>2024-09-20</td><td>0</td><td>0</td><td>1</td><td>1</td><td>0</td><td>0</td><td>0</td><td>0</td><td>1</td><td>0</td><td>0</td><td>1</td><td>0</td><td>1</td><td>0</td><td>0</td><td>0</td></tr><tr><td>5</td><td>50.0</td><td>2023-01-04</td><td>2023-01-12</td><td>32.6</td><td>300</td><td>1</td><td>1</td><td>0</td><td>0</td><td>2024-03-11</td><td>0</td><td>0</td><td>1</td><td>0</td><td>1</td><td>0</td><td>0</td><td>0</td><td>1</td><td>0</td><td>0</td><td>1</td><td>0</td><td>0</td><td>0</td><td>1</td><td>0</td></tr><tr><td>6</td><td>49.0</td><td>2018-05-23</td><td>2018-05-30</td><td>30.1</td><td>300</td><td>1</td><td>1</td><td>0</td><td>1</td><td>2019-07-07</td><td>0</td><td>0</td><td>1</td><td>0</td><td>0</td><td>0</td><td>1</td><td>1</td><td>0</td><td>0</td><td>1</td><td>0</td><td>0</td><td>1</td><td>0</td><td>0</td><td>0</td></tr><tr><td>7</td><td>51.0</td><td>2017-02-20</td><td>2017-02-23</td><td>44.3</td><td>244</td><td>1</td><td>0</td><td>0</td><td>0</td><td>2018-10-09</td><td>0</td><td>1</td><td>0</td><td>0</td><td>1</td><td>0</td><td>0</td><td>0</td><td>1</td><td>0</td><td>1</td><td>0</td><td>0</td><td>0</td><td>1</td><td>0</td><td>0</td></tr><tr><td>8</td><td>64.0</td><td>2021-03-23</td><td>2021-04-03</td><td>26.9</td><td>161</td><td>1</td><td>0</td><td>0</td><td>0</td><td>2023-02-13</td><td>0</td><td>1</td><td>0</td><td>1</td><td>0</td><td>0</td><td>0</td><td>0</td><td>1</td><td>0</td><td>0</td><td>0</td><td>1</td><td>0</td><td>0</td><td>0</td><td>1</td></tr><tr><td>9</td><td>56.0</td><td>2021-12-02</td><td>2021-12-04</td><td>40.9</td><td>286</td><td>1</td><td>1</td><td>0</td><td>0</td><td>2023-07-07</td><td>1</td><td>0</td><td>1</td><td>0</td><td>0</td><td>1</td><td>0</td><td>0</td><td>1</td><td>0</td><td>0</td><td>0</td><td>1</td><td>1</td><td>0</td><td>0</td><td>0</td></tr><tr><td>10</td><td>48.0</td><td>2023-12-26</td><td>2024-01-08</td><td>16.2</td><td>223</td><td>1</td><td>1</td><td>1</td><td>0</td><td>2025-08-20</td><td>0</td><td>1</td><td>0</td><td>0</td><td>1</td><td>0</td><td>0</td><td>0</td><td>1</td><td>0</td><td>0</td><td>0</td><td>1</td><td>0</td><td>0</td><td>0</td><td>1</td></tr><tr><td>11</td><td>47.0</td><td>2019-11-20</td><td>2019-11-23</td><td>33.0</td><td>266</td><td>1</td><td>0</td><td>0</td><td>0</td><td>2021-02-13</td><td>0</td><td>1</td><td>0</td><td>0</td><td>1</td><td>0</td><td>0</td><td>0</td><td>1</td><td>0</td><td>0</td><td>0</td><td>1</td><td>1</td><td>0</td><td>0</td><td>0</td></tr><tr><td>12</td><td>67.0</td><td>2024-05-28</td><td>2024-06-04</td><td>17.4</td><td>204</td><td>1</td><td>0</td><td>0</td><td>0</td><td>2026-02-16</td><td>0</td><td>1</td><td>0</td><td>1</td><td>0</td><td>0</td><td>0</td><td>1</td><td>0</td><td>0</td><td>0</td><td>1</td><td>0</td><td>0</td><td>0</td><td>0</td><td>1</td></tr><tr><td>13</td><td>56.0</td><td>2022-08-09</td><td>2022-08-15</td><td>17.9</td><td>211</td><td>1</td><td>1</td><td>0</td><td>1</td><td>2023-09-27</td><td>0</td><td>0</td><td>1</td><td>0</td><td>0</td><td>1</td><td>0</td><td>1</td><td>0</td><td>1</td><td>0</td><td>0</td><td>0</td><td>0</td><td>1</td><td>0</td><td>0</td></tr><tr><td>14</td><td>67.0</td><td>2023-04-14</td><td>2023-04-16</td><td>33.0</td><td>295</td><td>1</td><td>1</td><td>0</td><td>0</td><td>2025-01-24</td><td>0</td><td>0</td><td>1</td><td>0</td><td>0</td><td>1</td><td>0</td><td>1</td><td>0</td><td>0</td><td>1</td><td>0</td><td>0</td><td>1</td><td>0</td><td>0</td><td>0</td></tr><tr><td>15</td><td>49.0</td><td>2021-08-20</td><td>2021-08-24</td><td>37.5</td><td>244</td><td>1</td><td>1</td><td>0</td><td>0</td><td>2023-01-30</td><td>0</td><td>1</td><td>0</td><td>1</td><td>0</td><td>0</td><td>0</td><td>0</td><td>1</td><td>1</td><td>0</td><td>0</td><td>0</td><td>0</td><td>1</td><td>0</td><td>0</td></tr><tr><td>16</td><td>48.0</td><td>2020-02-29</td><td>2020-03-13</td><td>40.1</td><td>251</td><td>1</td><td>1</td><td>0</td><td>0</td><td>2021-07-04</td><td>1</td><td>1</td><td>0</td><td>1</td><td>0</td><td>0</td><td>0</td><td>1</td><td>0</td><td>0</td><td>0</td><td>0</td><td>1</td><td>0</td><td>0</td><td>0</td><td>1</td></tr><tr><td>17</td><td>45.0</td><td>2017-08-09</td><td>2017-08-14</td><td>37.9</td><td>251</td><td>1</td><td>1</td><td>0</td><td>0</td><td>2018-05-24</td><td>1</td><td>0</td><td>1</td><td>0</td><td>0</td><td>0</td><td>1</td><td>1</td><td>0</td><td>0</td><td>1</td><td>0</td><td>0</td><td>1</td><td>0</td><td>0</td><td>0</td></tr><tr><td>18</td><td>47.0</td><td>2015-08-15</td><td>2015-08-16</td><td>34.5</td><td>243</td><td>1</td><td>1</td><td>0</td><td>0</td><td>2017-01-02</td><td>0</td><td>0</td><td>1</td><td>0</td><td>1</td><td>0</td><td>0</td><td>0</td><td>1</td><td>0</td><td>0</td><td>0</td><td>1</td><td>1</td><td>0</td><td>0</td><td>0</td></tr><tr><td>19</td><td>56.0</td><td>2014-07-01</td><td>2014-07-03</td><td>31.2</td><td>268</td><td>1</td><td>0</td><td>0</td><td>0</td><td>2015-08-29</td><td>0</td><td>0</td><td>1</td><td>0</td><td>0</td><td>0</td><td>1</td><td>1</td><td>0</td><td>0</td><td>0</td><td>0</td><td>1</td><td>0</td><td>1</td><td>0</td><td>0</td></tr><tr><td>20</td><td>46.0</td><td>2015-07-30</td><td>2015-08-03</td><td>31.8</td><td>251</td><td>1</td><td>0</td><td>0</td><td>0</td><td>2016-08-29</td><td>0</td><td>1</td><td>0</td><td>0</td><td>0</td><td>0</td><td>1</td><td>1</td><td>0</td><td>0</td><td>0</td><td>0</td><td>1</td><td>0</td><td>1</td><td>0</td><td>0</td></tr></table><br /><pre>only showing top 20 rows\n",
       "\n",
       "/mnt1/yarn/usercache/livy/appcache/application_1722405245074_0003/container_1722405245074_0003_01_000001/pyspark.zip/pyspark/pandas/utils.py:975: PandasAPIOnSparkAdviceWarning: If `index_col` is not specified for `to_spark`, the existing index is lost when converting to Spark DataFrame.\n",
       "  warnings.warn(message, PandasAPIOnSparkAdviceWarning)</pre>"
      ],
      "text/plain": [
       "<IPython.core.display.HTML object>"
      ]
     },
     "metadata": {},
     "output_type": "display_data"
    }
   ],
   "source": [
    "%%pretty\n",
    "df.to_spark().show()"
   ]
  },
  {
   "cell_type": "code",
   "execution_count": 12,
   "id": "3f7f1612",
   "metadata": {},
   "outputs": [
    {
     "data": {
      "application/vnd.jupyter.widget-view+json": {
       "model_id": "e2b19b82397f4174a1a465865193d560",
       "version_major": 2,
       "version_minor": 0
      },
      "text/plain": [
       "VBox()"
      ]
     },
     "metadata": {},
     "output_type": "display_data"
    },
    {
     "data": {
      "application/vnd.jupyter.widget-view+json": {
       "model_id": "",
       "version_major": 2,
       "version_minor": 0
      },
      "text/plain": [
       "FloatProgress(value=0.0, bar_style='info', description='Progress:', layout=Layout(height='25px', width='50%'),…"
      ]
     },
     "metadata": {},
     "output_type": "display_data"
    },
    {
     "name": "stdout",
     "output_type": "stream",
     "text": [
      "(10000, 28)"
     ]
    }
   ],
   "source": [
    "#check again, make sure dataset shape is 10000\n",
    "df.shape"
   ]
  },
  {
   "cell_type": "code",
   "execution_count": 13,
   "id": "0f461f11",
   "metadata": {},
   "outputs": [
    {
     "data": {
      "application/vnd.jupyter.widget-view+json": {
       "model_id": "e97303d798954341a95bf59162a16a58",
       "version_major": 2,
       "version_minor": 0
      },
      "text/plain": [
       "VBox()"
      ]
     },
     "metadata": {},
     "output_type": "display_data"
    },
    {
     "data": {
      "application/vnd.jupyter.widget-view+json": {
       "model_id": "",
       "version_major": 2,
       "version_minor": 0
      },
      "text/plain": [
       "FloatProgress(value=0.0, bar_style='info', description='Progress:', layout=Layout(height='25px', width='50%'),…"
      ]
     },
     "metadata": {},
     "output_type": "display_data"
    },
    {
     "name": "stdout",
     "output_type": "stream",
     "text": [
      "/mnt1/yarn/usercache/livy/appcache/application_1722405245074_0003/container_1722405245074_0003_01_000001/pyspark.zip/pyspark/pandas/utils.py:975: PandasAPIOnSparkAdviceWarning: `to_pandas` loads all data into the driver's memory. It should only be used if the resulting pandas DataFrame is expected to be small.\n",
      "  warnings.warn(message, PandasAPIOnSparkAdviceWarning)"
     ]
    }
   ],
   "source": [
    "#ps to pd\n",
    "import pandas as pd\n",
    "df = df.to_pandas()"
   ]
  },
  {
   "cell_type": "code",
   "execution_count": 14,
   "id": "46b25de5",
   "metadata": {},
   "outputs": [
    {
     "data": {
      "application/vnd.jupyter.widget-view+json": {
       "model_id": "479dfad701874d54bb32baabc36b13f7",
       "version_major": 2,
       "version_minor": 0
      },
      "text/plain": [
       "VBox()"
      ]
     },
     "metadata": {},
     "output_type": "display_data"
    },
    {
     "data": {
      "application/vnd.jupyter.widget-view+json": {
       "model_id": "",
       "version_major": 2,
       "version_minor": 0
      },
      "text/plain": [
       "FloatProgress(value=0.0, bar_style='info', description='Progress:', layout=Layout(height='25px', width='50%'),…"
      ]
     },
     "metadata": {},
     "output_type": "display_data"
    }
   ],
   "source": [
    "import pandas as pd\n",
    "df['beginning_of_treatment_date'] = pd.to_datetime(df['beginning_of_treatment_date'])\n",
    "df['end_treatment_date'] = pd.to_datetime(df['end_treatment_date'])\n",
    "df['duration'] = (df['end_treatment_date'] - df['beginning_of_treatment_date']).dt.days"
   ]
  },
  {
   "cell_type": "code",
   "execution_count": 15,
   "id": "297a2312",
   "metadata": {},
   "outputs": [
    {
     "data": {
      "application/vnd.jupyter.widget-view+json": {
       "model_id": "2a3e0218d09642fd933f4f49fa344b29",
       "version_major": 2,
       "version_minor": 0
      },
      "text/plain": [
       "VBox()"
      ]
     },
     "metadata": {},
     "output_type": "display_data"
    },
    {
     "data": {
      "application/vnd.jupyter.widget-view+json": {
       "model_id": "",
       "version_major": 2,
       "version_minor": 0
      },
      "text/plain": [
       "FloatProgress(value=0.0, bar_style='info', description='Progress:', layout=Layout(height='25px', width='50%'),…"
      ]
     },
     "metadata": {},
     "output_type": "display_data"
    }
   ],
   "source": [
    "#drop 'diagnosis_date','beginning_of_treatment_date','end_treatment_date' column\n",
    "df = df.drop(columns=['diagnosis_date','beginning_of_treatment_date','end_treatment_date'])"
   ]
  },
  {
   "cell_type": "code",
   "execution_count": 16,
   "id": "ac6648b6",
   "metadata": {},
   "outputs": [
    {
     "data": {
      "application/vnd.jupyter.widget-view+json": {
       "model_id": "5d2f1ac9c05549458ab2c4ef87d27ba1",
       "version_major": 2,
       "version_minor": 0
      },
      "text/plain": [
       "VBox()"
      ]
     },
     "metadata": {},
     "output_type": "display_data"
    },
    {
     "data": {
      "application/vnd.jupyter.widget-view+json": {
       "model_id": "",
       "version_major": 2,
       "version_minor": 0
      },
      "text/plain": [
       "FloatProgress(value=0.0, bar_style='info', description='Progress:', layout=Layout(height='25px', width='50%'),…"
      ]
     },
     "metadata": {},
     "output_type": "display_data"
    },
    {
     "name": "stdout",
     "output_type": "stream",
     "text": [
      "+---+----+----+-----------------+------------+------+---------+------------+--------+-------------+-----------+--------------------+---------------------+----------------------+---------------------+-----------------+------------------+-----------------------------+----------------------------+---------------------------+-----------------------------+---------------------------+-----------------------+------------------------+----------------------+--------+\n",
      "|_c0| age| bmi|cholesterol_level|hypertension|asthma|cirrhosis|other_cancer|survived|gender_Female|gender_Male|cancer_stage_Stage I|cancer_stage_Stage II|cancer_stage_Stage III|cancer_stage_Stage IV|family_history_No|family_history_Yes|smoking_status_Current Smoker|smoking_status_Former Smoker|smoking_status_Never Smoked|smoking_status_Passive Smoker|treatment_type_Chemotherapy|treatment_type_Combined|treatment_type_Radiation|treatment_type_Surgery|duration|\n",
      "+---+----+----+-----------------+------------+------+---------+------------+--------+-------------+-----------+--------------------+---------------------+----------------------+---------------------+-----------------+------------------+-----------------------------+----------------------------+---------------------------+-----------------------------+---------------------------+-----------------------+------------------------+----------------------+--------+\n",
      "|  1|50.0|25.9|              208|           1|     0|        0|           0|       0|            0|          1|                   0|                    0|                     1|                    0|                0|                 1|                            0|                           0|                          0|                            1|                          0|                      0|                       1|                     0|     359|\n",
      "|  2|65.0|18.9|              193|           0|     0|        0|           0|       0|            0|          1|                   0|                    0|                     0|                    1|                1|                 0|                            0|                           0|                          1|                            0|                          0|                      0|                       0|                     1|     699|\n",
      "|  3|51.0|34.6|              249|           1|     1|        1|           0|       1|            1|          0|                   0|                    0|                     1|                    0|                0|                 1|                            0|                           1|                          0|                            0|                          0|                      0|                       0|                     1|     426|\n",
      "|  4|37.0|40.2|              262|           0|     0|        0|           0|       0|            0|          1|                   1|                    0|                     0|                    0|                0|                 1|                            0|                           0|                          1|                            0|                          1|                      0|                       0|                     0|     292|\n",
      "|  5|50.0|32.6|              300|           1|     1|        0|           0|       0|            0|          1|                   0|                    1|                     0|                    0|                0|                 1|                            0|                           0|                          1|                            0|                          0|                      0|                       1|                     0|     424|\n",
      "|  6|49.0|30.1|              300|           1|     1|        0|           1|       0|            0|          1|                   0|                    0|                     0|                    1|                1|                 0|                            0|                           1|                          0|                            0|                          1|                      0|                       0|                     0|     403|\n",
      "|  7|51.0|44.3|              244|           1|     0|        0|           0|       0|            1|          0|                   0|                    1|                     0|                    0|                0|                 1|                            0|                           1|                          0|                            0|                          0|                      1|                       0|                     0|     593|\n",
      "|  8|64.0|26.9|              161|           1|     0|        0|           0|       0|            1|          0|                   1|                    0|                     0|                    0|                0|                 1|                            0|                           0|                          0|                            1|                          0|                      0|                       0|                     1|     681|\n",
      "|  9|56.0|40.9|              286|           1|     1|        0|           0|       1|            0|          1|                   0|                    0|                     1|                    0|                0|                 1|                            0|                           0|                          0|                            1|                          1|                      0|                       0|                     0|     580|\n",
      "| 10|48.0|16.2|              223|           1|     1|        1|           0|       0|            1|          0|                   0|                    1|                     0|                    0|                0|                 1|                            0|                           0|                          0|                            1|                          0|                      0|                       0|                     1|     590|\n",
      "| 11|47.0|33.0|              266|           1|     0|        0|           0|       0|            1|          0|                   0|                    1|                     0|                    0|                0|                 1|                            0|                           0|                          0|                            1|                          1|                      0|                       0|                     0|     448|\n",
      "| 12|67.0|17.4|              204|           1|     0|        0|           0|       0|            1|          0|                   1|                    0|                     0|                    0|                1|                 0|                            0|                           0|                          1|                            0|                          0|                      0|                       0|                     1|     622|\n",
      "| 13|56.0|17.9|              211|           1|     1|        0|           1|       0|            0|          1|                   0|                    0|                     1|                    0|                1|                 0|                            1|                           0|                          0|                            0|                          0|                      1|                       0|                     0|     408|\n",
      "| 14|67.0|33.0|              295|           1|     1|        0|           0|       0|            0|          1|                   0|                    0|                     1|                    0|                1|                 0|                            0|                           1|                          0|                            0|                          1|                      0|                       0|                     0|     649|\n",
      "| 15|49.0|37.5|              244|           1|     1|        0|           0|       0|            1|          0|                   1|                    0|                     0|                    0|                0|                 1|                            1|                           0|                          0|                            0|                          0|                      1|                       0|                     0|     524|\n",
      "| 16|48.0|40.1|              251|           1|     1|        0|           0|       1|            1|          0|                   1|                    0|                     0|                    0|                1|                 0|                            0|                           0|                          0|                            1|                          0|                      0|                       0|                     1|     478|\n",
      "| 17|45.0|37.9|              251|           1|     1|        0|           0|       1|            0|          1|                   0|                    0|                     0|                    1|                1|                 0|                            0|                           1|                          0|                            0|                          1|                      0|                       0|                     0|     283|\n",
      "| 18|47.0|34.5|              243|           1|     1|        0|           0|       0|            0|          1|                   0|                    1|                     0|                    0|                0|                 1|                            0|                           0|                          0|                            1|                          1|                      0|                       0|                     0|     505|\n",
      "| 19|56.0|31.2|              268|           1|     0|        0|           0|       0|            0|          1|                   0|                    0|                     0|                    1|                1|                 0|                            0|                           0|                          0|                            1|                          0|                      1|                       0|                     0|     422|\n",
      "| 20|46.0|31.8|              251|           1|     0|        0|           0|       0|            1|          0|                   0|                    0|                     0|                    1|                1|                 0|                            0|                           0|                          0|                            1|                          0|                      1|                       0|                     0|     392|\n",
      "+---+----+----+-----------------+------------+------+---------+------------+--------+-------------+-----------+--------------------+---------------------+----------------------+---------------------+-----------------+------------------+-----------------------------+----------------------------+---------------------------+-----------------------------+---------------------------+-----------------------+------------------------+----------------------+--------+\n",
      "only showing top 20 rows\n",
      "\n",
      "/mnt1/yarn/usercache/livy/appcache/application_1722405245074_0003/container_1722405245074_0003_01_000001/pyspark.zip/pyspark/pandas/utils.py:975: PandasAPIOnSparkAdviceWarning: If `index_col` is not specified for `to_spark`, the existing index is lost when converting to Spark DataFrame.\n",
      "  warnings.warn(message, PandasAPIOnSparkAdviceWarning)"
     ]
    }
   ],
   "source": [
    "#panda to pyspark.pandas\n",
    "psdf = ps.from_pandas(df)\n",
    "spark_df = psdf.to_spark()\n",
    "spark_df.show()"
   ]
  },
  {
   "cell_type": "code",
   "execution_count": 27,
   "id": "324ce1b8",
   "metadata": {},
   "outputs": [
    {
     "data": {
      "application/vnd.jupyter.widget-view+json": {
       "model_id": "4ac36c2e457d4aafba9a71fa1bde04a7",
       "version_major": 2,
       "version_minor": 0
      },
      "text/plain": [
       "VBox()"
      ]
     },
     "metadata": {},
     "output_type": "display_data"
    },
    {
     "data": {
      "application/vnd.jupyter.widget-view+json": {
       "model_id": "",
       "version_major": 2,
       "version_minor": 0
      },
      "text/plain": [
       "FloatProgress(value=0.0, bar_style='info', description='Progress:', layout=Layout(height='25px', width='50%'),…"
      ]
     },
     "metadata": {},
     "output_type": "display_data"
    }
   ],
   "source": [
    "#no '_c0', 'duration', and 'survived'\n",
    "feature_columns = [col for col in spark_df.columns if col not in ['_c0', 'duration', 'survived']]"
   ]
  },
  {
   "cell_type": "code",
   "execution_count": 28,
   "id": "f39489ed",
   "metadata": {},
   "outputs": [
    {
     "data": {
      "application/vnd.jupyter.widget-view+json": {
       "model_id": "41e47de4102f463caf9f4c6258094fbf",
       "version_major": 2,
       "version_minor": 0
      },
      "text/plain": [
       "VBox()"
      ]
     },
     "metadata": {},
     "output_type": "display_data"
    },
    {
     "data": {
      "application/vnd.jupyter.widget-view+json": {
       "model_id": "",
       "version_major": 2,
       "version_minor": 0
      },
      "text/plain": [
       "FloatProgress(value=0.0, bar_style='info', description='Progress:', layout=Layout(height='25px', width='50%'),…"
      ]
     },
     "metadata": {},
     "output_type": "display_data"
    }
   ],
   "source": [
    "#scale features\n",
    "assembler = VectorAssembler(inputCols=feature_columns, outputCol=\"features\")\n",
    "data = assembler.transform(spark_df)\n",
    "scaler = StandardScaler(inputCol=\"features\", outputCol=\"scaledFeatures\", withStd=True, withMean=False)\n",
    "scaler_model = scaler.fit(data)\n",
    "scaled_data = scaler_model.transform(data)"
   ]
  },
  {
   "cell_type": "code",
   "execution_count": 29,
   "id": "fc4d59a1",
   "metadata": {},
   "outputs": [
    {
     "data": {
      "application/vnd.jupyter.widget-view+json": {
       "model_id": "01d5abf211834c2c8917684b8aaef557",
       "version_major": 2,
       "version_minor": 0
      },
      "text/plain": [
       "VBox()"
      ]
     },
     "metadata": {},
     "output_type": "display_data"
    },
    {
     "data": {
      "application/vnd.jupyter.widget-view+json": {
       "model_id": "",
       "version_major": 2,
       "version_minor": 0
      },
      "text/plain": [
       "FloatProgress(value=0.0, bar_style='info', description='Progress:', layout=Layout(height='25px', width='50%'),…"
      ]
     },
     "metadata": {},
     "output_type": "display_data"
    }
   ],
   "source": [
    "#linear regression to assess influence of each factor on survival\n",
    "regression_data = scaled_data.select(col(\"scaledFeatures\").alias(\"features\"), col(\"survived\").alias(\"label\"))\n",
    "lr = LinearRegression(labelCol=\"label\", featuresCol=\"features\")\n",
    "\n",
    "#train model\n",
    "lr_model = lr.fit(regression_data)"
   ]
  },
  {
   "cell_type": "code",
   "execution_count": 35,
   "id": "e2da875b",
   "metadata": {},
   "outputs": [
    {
     "data": {
      "application/vnd.jupyter.widget-view+json": {
       "model_id": "ee3452cb70b34be2acb1e72d6ba85764",
       "version_major": 2,
       "version_minor": 0
      },
      "text/plain": [
       "VBox()"
      ]
     },
     "metadata": {},
     "output_type": "display_data"
    },
    {
     "data": {
      "application/vnd.jupyter.widget-view+json": {
       "model_id": "",
       "version_major": 2,
       "version_minor": 0
      },
      "text/plain": [
       "FloatProgress(value=0.0, bar_style='info', description='Progress:', layout=Layout(height='25px', width='50%'),…"
      ]
     },
     "metadata": {},
     "output_type": "display_data"
    },
    {
     "data": {
      "image/png": "[encoded data removed]",
      "text/plain": [
       "<IPython.core.display.Image object>"
      ]
     },
     "metadata": {},
     "output_type": "display_data"
    }
   ],
   "source": [
    "#extract importances feature\n",
    "feature_importances = lr_model.coefficients.toArray()\n",
    "feature_importances_df = pd.DataFrame(list(zip(feature_columns, feature_importances)), columns=['Feature', 'Importance'])\n",
    "feature_importances_df = feature_importances_df.sort_values(by='Importance', ascending=False)\n",
    "plt.figure(figsize=(10, 6))\n",
    "plt.barh(feature_importances_df['Feature'], feature_importances_df['Importance'], color='lightblue')\n",
    "plt.xlabel('Coefficient Value')\n",
    "plt.title('Influence of Each Factor on Survival')\n",
    "plt.gca().invert_yaxis()  # To have the highest importance at the top\n",
    "plt.show()\n",
    "%matplot plt"
   ]
  },
  {
   "cell_type": "markdown",
   "id": "49b1f86c",
   "metadata": {},
   "source": [
    "Based on the plot above, we can observe several key influences on survival: Hypertension has the most negative impact on survival, this significant health risk underscores the importance of managing hypertension to improve survival rates. Cancer Stage IV and treatment with chemotherapy also negatively impact survival. This makes sense, as patients undergoing chemotherapy are typically in later stages of cancer, which inherently carries a higher risk of mortality. Older age is associated with a decreased likelihood of survival, which is expected since older individuals generally face more health challenges compared to younger people. When it comes to smoking status, whether someone smokes or not seems to have a smaller impact on survival. However, we can see that being a current smoker has a slight negative influence on survival, while being a passive smoker (exposed to secondhand smoke) shows a slight positive influence. Though the impact is minimal, it still suggests that not smoking is better for survival."
   ]
  },
  {
   "cell_type": "code",
   "execution_count": 36,
   "id": "12890d6e",
   "metadata": {},
   "outputs": [
    {
     "data": {
      "application/vnd.jupyter.widget-view+json": {
       "model_id": "7e853a502d394521acdbbcdf22df52c0",
       "version_major": 2,
       "version_minor": 0
      },
      "text/plain": [
       "VBox()"
      ]
     },
     "metadata": {},
     "output_type": "display_data"
    },
    {
     "data": {
      "application/vnd.jupyter.widget-view+json": {
       "model_id": "",
       "version_major": 2,
       "version_minor": 0
      },
      "text/plain": [
       "FloatProgress(value=0.0, bar_style='info', description='Progress:', layout=Layout(height='25px', width='50%'),…"
      ]
     },
     "metadata": {},
     "output_type": "display_data"
    },
    {
     "name": "stdout",
     "output_type": "stream",
     "text": [
      "+--------------------+-----+--------------------+--------------------+----------+\n",
      "|            features|label|       rawPrediction|         probability|prediction|\n",
      "+--------------------+-----+--------------------+--------------------+----------+\n",
      "|(23,[0,1,2,3,4,5,...|    0|[77.2070895238683...|[0.77207089523868...|       0.0|\n",
      "|(23,[0,1,2,3,4,5,...|    0|[78.9616657431123...|[0.78961665743112...|       0.0|\n",
      "|(23,[0,1,2,3,4,5,...|    0|[79.6400251426392...|[0.79640025142639...|       0.0|\n",
      "|(23,[0,1,2,3,4,5,...|    1|[72.2633831076196...|[0.72263383107619...|       0.0|\n",
      "|(23,[0,1,2,3,4,5,...|    1|[76.2839730734672...|[0.76283973073467...|       0.0|\n",
      "|(23,[0,1,2,3,4,5,...|    0|[78.6852784978344...|[0.78685278497834...|       0.0|\n",
      "|(23,[0,1,2,3,4,5,...|    0|[74.3046796154980...|[0.74304679615498...|       0.0|\n",
      "|(23,[0,1,2,3,4,5,...|    1|[79.9206058016707...|[0.79920605801670...|       0.0|\n",
      "|(23,[0,1,2,3,4,5,...|    0|[77.8430449657976...|[0.77843044965797...|       0.0|\n",
      "|(23,[0,1,2,3,4,5,...|    0|[78.7584056489766...|[0.78758405648976...|       0.0|\n",
      "|(23,[0,1,2,3,4,5,...|    0|[80.4886395988960...|[0.80488639598896...|       0.0|\n",
      "|(23,[0,1,2,3,4,5,...|    0|[73.2698391391765...|[0.73269839139176...|       0.0|\n",
      "|(23,[0,1,2,3,4,5,...|    0|[78.5955783256430...|[0.78595578325643...|       0.0|\n",
      "|(23,[0,1,2,3,4,5,...|    0|[81.6517489693492...|[0.81651748969349...|       0.0|\n",
      "|(23,[0,1,2,3,4,5,...|    0|[80.2292587804578...|[0.80229258780457...|       0.0|\n",
      "|(23,[0,1,2,3,4,5,...|    0|[79.9472723012678...|[0.79947272301267...|       0.0|\n",
      "|(23,[0,1,2,3,4,5,...|    1|[72.0247833533268...|[0.72024783353326...|       0.0|\n",
      "|(23,[0,1,2,3,4,5,...|    1|[79.7202907313978...|[0.79720290731397...|       0.0|\n",
      "|(23,[0,1,2,3,4,5,...|    0|[80.8447034517487...|[0.80844703451748...|       0.0|\n",
      "|(23,[0,1,2,3,4,5,...|    0|[75.1992559870541...|[0.75199255987054...|       0.0|\n",
      "+--------------------+-----+--------------------+--------------------+----------+\n",
      "only showing top 20 rows\n",
      "\n",
      "Accuracy: 0.7893880208333334"
     ]
    }
   ],
   "source": [
    "#use scalefeatures to classification with RandomForestClassifier\n",
    "classification_data = scaled_data.select(col(\"scaledFeatures\").alias(\"features\"), col(\"survived\").alias(\"label\"))\n",
    "\n",
    "#split data 7/3 and set seed 1000\n",
    "train_data, test_data = classification_data.randomSplit([0.7, 0.3], seed=1000)\n",
    "\n",
    "\n",
    "#RandomForestClassifier\n",
    "rf = RandomForestClassifier(labelCol=\"label\", featuresCol=\"features\", numTrees=100, maxDepth=10)\n",
    "\n",
    "#train model\n",
    "rf_model = rf.fit(train_data)\n",
    "\n",
    "#predictions\n",
    "predictions = rf_model.transform(test_data)\n",
    "predictions.show()\n",
    "\n",
    "#evaluation model\n",
    "evaluator = MulticlassClassificationEvaluator(labelCol=\"label\", predictionCol=\"prediction\", metricName=\"accuracy\")\n",
    "accuracy = evaluator.evaluate(predictions)\n",
    "\n",
    "#get accuracy\n",
    "print(f\"Accuracy: {accuracy}\")"
   ]
  },
  {
   "cell_type": "markdown",
   "id": "0fe20ee0",
   "metadata": {},
   "source": [
    "we can see Accuracy: 0.7893880208333334 which means RandomForestClassifier is performing well "
   ]
  },
  {
   "cell_type": "code",
   "execution_count": 37,
   "id": "ee1d04c3",
   "metadata": {},
   "outputs": [
    {
     "data": {
      "application/vnd.jupyter.widget-view+json": {
       "model_id": "331c33fe668a4c66a4bfd83936343df8",
       "version_major": 2,
       "version_minor": 0
      },
      "text/plain": [
       "VBox()"
      ]
     },
     "metadata": {},
     "output_type": "display_data"
    },
    {
     "data": {
      "application/vnd.jupyter.widget-view+json": {
       "model_id": "",
       "version_major": 2,
       "version_minor": 0
      },
      "text/plain": [
       "FloatProgress(value=0.0, bar_style='info', description='Progress:', layout=Layout(height='25px', width='50%'),…"
      ]
     },
     "metadata": {},
     "output_type": "display_data"
    },
    {
     "name": "stdout",
     "output_type": "stream",
     "text": [
      "+---+----+----+-----------------+------------+------+---------+------------+--------+-------------+-----------+--------------------+---------------------+----------------------+---------------------+-----------------+------------------+-----------------------------+----------------------------+---------------------------+-----------------------------+---------------------------+-----------------------+------------------------+----------------------+--------+--------------------+----------+\n",
      "|_c0| age| bmi|cholesterol_level|hypertension|asthma|cirrhosis|other_cancer|survived|gender_Female|gender_Male|cancer_stage_Stage I|cancer_stage_Stage II|cancer_stage_Stage III|cancer_stage_Stage IV|family_history_No|family_history_Yes|smoking_status_Current Smoker|smoking_status_Former Smoker|smoking_status_Never Smoked|smoking_status_Passive Smoker|treatment_type_Chemotherapy|treatment_type_Combined|treatment_type_Radiation|treatment_type_Surgery|duration|            features|prediction|\n",
      "+---+----+----+-----------------+------------+------+---------+------------+--------+-------------+-----------+--------------------+---------------------+----------------------+---------------------+-----------------+------------------+-----------------------------+----------------------------+---------------------------+-----------------------------+---------------------------+-----------------------+------------------------+----------------------+--------+--------------------+----------+\n",
      "|  1|50.0|25.9|              208|           1|     0|        0|           0|       0|            0|          1|                   0|                    0|                     1|                    0|                0|                 1|                            0|                           0|                          0|                            1|                          0|                      0|                       1|                     0|     359|(23,[0,1,2,3,8,11...|         2|\n",
      "|  2|65.0|18.9|              193|           0|     0|        0|           0|       0|            0|          1|                   0|                    0|                     0|                    1|                1|                 0|                            0|                           0|                          1|                            0|                          0|                      0|                       0|                     1|     699|(23,[0,1,2,8,12,1...|         0|\n",
      "|  3|51.0|34.6|              249|           1|     1|        1|           0|       1|            1|          0|                   0|                    0|                     1|                    0|                0|                 1|                            0|                           1|                          0|                            0|                          0|                      0|                       0|                     1|     426|(23,[0,1,2,3,4,5,...|         2|\n",
      "|  4|37.0|40.2|              262|           0|     0|        0|           0|       0|            0|          1|                   1|                    0|                     0|                    0|                0|                 1|                            0|                           0|                          1|                            0|                          1|                      0|                       0|                     0|     292|(23,[0,1,2,8,9,14...|         1|\n",
      "|  5|50.0|32.6|              300|           1|     1|        0|           0|       0|            0|          1|                   0|                    1|                     0|                    0|                0|                 1|                            0|                           0|                          1|                            0|                          0|                      0|                       1|                     0|     424|(23,[0,1,2,3,4,8,...|         1|\n",
      "|  6|49.0|30.1|              300|           1|     1|        0|           1|       0|            0|          1|                   0|                    0|                     0|                    1|                1|                 0|                            0|                           1|                          0|                            0|                          1|                      0|                       0|                     0|     403|(23,[0,1,2,3,4,6,...|         1|\n",
      "|  7|51.0|44.3|              244|           1|     0|        0|           0|       0|            1|          0|                   0|                    1|                     0|                    0|                0|                 1|                            0|                           1|                          0|                            0|                          0|                      1|                       0|                     0|     593|(23,[0,1,2,3,7,10...|         2|\n",
      "|  8|64.0|26.9|              161|           1|     0|        0|           0|       0|            1|          0|                   1|                    0|                     0|                    0|                0|                 1|                            0|                           0|                          0|                            1|                          0|                      0|                       0|                     1|     681|(23,[0,1,2,3,7,9,...|         0|\n",
      "|  9|56.0|40.9|              286|           1|     1|        0|           0|       1|            0|          1|                   0|                    0|                     1|                    0|                0|                 1|                            0|                           0|                          0|                            1|                          1|                      0|                       0|                     0|     580|(23,[0,1,2,3,4,8,...|         1|\n",
      "| 10|48.0|16.2|              223|           1|     1|        1|           0|       0|            1|          0|                   0|                    1|                     0|                    0|                0|                 1|                            0|                           0|                          0|                            1|                          0|                      0|                       0|                     1|     590|(23,[0,1,2,3,4,5,...|         2|\n",
      "| 11|47.0|33.0|              266|           1|     0|        0|           0|       0|            1|          0|                   0|                    1|                     0|                    0|                0|                 1|                            0|                           0|                          0|                            1|                          1|                      0|                       0|                     0|     448|(23,[0,1,2,3,7,10...|         1|\n",
      "| 12|67.0|17.4|              204|           1|     0|        0|           0|       0|            1|          0|                   1|                    0|                     0|                    0|                1|                 0|                            0|                           0|                          1|                            0|                          0|                      0|                       0|                     1|     622|(23,[0,1,2,3,7,9,...|         0|\n",
      "| 13|56.0|17.9|              211|           1|     1|        0|           1|       0|            0|          1|                   0|                    0|                     1|                    0|                1|                 0|                            1|                           0|                          0|                            0|                          0|                      1|                       0|                     0|     408|(23,[0,1,2,3,4,6,...|         2|\n",
      "| 14|67.0|33.0|              295|           1|     1|        0|           0|       0|            0|          1|                   0|                    0|                     1|                    0|                1|                 0|                            0|                           1|                          0|                            0|                          1|                      0|                       0|                     0|     649|(23,[0,1,2,3,4,8,...|         1|\n",
      "| 15|49.0|37.5|              244|           1|     1|        0|           0|       0|            1|          0|                   1|                    0|                     0|                    0|                0|                 1|                            1|                           0|                          0|                            0|                          0|                      1|                       0|                     0|     524|(23,[0,1,2,3,4,7,...|         2|\n",
      "| 16|48.0|40.1|              251|           1|     1|        0|           0|       1|            1|          0|                   1|                    0|                     0|                    0|                1|                 0|                            0|                           0|                          0|                            1|                          0|                      0|                       0|                     1|     478|(23,[0,1,2,3,4,7,...|         2|\n",
      "| 17|45.0|37.9|              251|           1|     1|        0|           0|       1|            0|          1|                   0|                    0|                     0|                    1|                1|                 0|                            0|                           1|                          0|                            0|                          1|                      0|                       0|                     0|     283|(23,[0,1,2,3,4,8,...|         2|\n",
      "| 18|47.0|34.5|              243|           1|     1|        0|           0|       0|            0|          1|                   0|                    1|                     0|                    0|                0|                 1|                            0|                           0|                          0|                            1|                          1|                      0|                       0|                     0|     505|(23,[0,1,2,3,4,8,...|         2|\n",
      "| 19|56.0|31.2|              268|           1|     0|        0|           0|       0|            0|          1|                   0|                    0|                     0|                    1|                1|                 0|                            0|                           0|                          0|                            1|                          0|                      1|                       0|                     0|     422|(23,[0,1,2,3,8,12...|         1|\n",
      "| 20|46.0|31.8|              251|           1|     0|        0|           0|       0|            1|          0|                   0|                    0|                     0|                    1|                1|                 0|                            0|                           0|                          0|                            1|                          0|                      1|                       0|                     0|     392|(23,[0,1,2,3,7,12...|         2|\n",
      "+---+----+----+-----------------+------------+------+---------+------------+--------+-------------+-----------+--------------------+---------------------+----------------------+---------------------+-----------------+------------------+-----------------------------+----------------------------+---------------------------+-----------------------------+---------------------------+-----------------------+------------------------+----------------------+--------+--------------------+----------+\n",
      "only showing top 20 rows\n",
      "\n",
      "Silhouette with squared euclidean distance: 0.6698249255173816"
     ]
    }
   ],
   "source": [
    "#Clustering, we choose k=3, we test k=5 and k=7, found best of k=3 get better results\n",
    "#We also test use Scalefeatures and unScalefeatures, the result shows when use Clustering use UunScalefeatures\n",
    "#has more better Silhouette score, so we choose use UunScalefeatures.\n",
    "kmeans = KMeans(featuresCol='features', k=3)\n",
    "\n",
    "#train tmodel\n",
    "kmeans_model = kmeans.fit(data)\n",
    "\n",
    "#prediction\n",
    "kmeans_predictions = kmeans_model.transform(data)\n",
    "kmeans_predictions.show()\n",
    "\n",
    "#evaluation clustering by Silhouette score\n",
    "evaluator = ClusteringEvaluator()\n",
    "\n",
    "silhouette = evaluator.evaluate(kmeans_predictions)\n",
    "print(f\"Silhouette with squared euclidean distance: {silhouette}\")"
   ]
  },
  {
   "cell_type": "markdown",
   "id": "3a741904",
   "metadata": {},
   "source": [
    "we can see Silhouette with squared euclidean distance: 0.6698249255173816, Silhouette ranges from −1 to +1, anything around 0.5 or more indicates well separated clusters. Based on above the Clustering are well-defined and separated from each other, indicates well separated clusters."
   ]
  },
  {
   "cell_type": "code",
   "execution_count": null,
   "id": "316216d7",
   "metadata": {},
   "outputs": [],
   "source": []
  },
  {
   "cell_type": "code",
   "execution_count": null,
   "id": "0b11eb69",
   "metadata": {},
   "outputs": [],
   "source": []
  }
 ],
 "metadata": {
  "kernelspec": {
   "display_name": "PySpark",
   "language": "python",
   "name": "pysparkkernel"
  },
  "language_info": {
   "codemirror_mode": {
    "name": "python",
    "version": 3
   },
   "file_extension": ".py",
   "mimetype": "text/x-python",
   "name": "pyspark",
   "pygments_lexer": "python3"
  }
 },
 "nbformat": 4,
 "nbformat_minor": 5
}
