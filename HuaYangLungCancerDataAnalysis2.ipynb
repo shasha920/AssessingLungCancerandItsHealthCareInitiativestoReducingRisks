{
 "cells": [
  {
   "cell_type": "markdown",
   "id": "9bf804a4",
   "metadata": {},
   "source": [
    "PROJECT TEAM: HUA YANG, JENNY LAM, OLIVIA MALAGON"
   ]
  },
  {
   "cell_type": "code",
   "execution_count": 124,
   "id": "4ea783d5",
   "metadata": {},
   "outputs": [
    {
     "data": {
      "application/vnd.jupyter.widget-view+json": {
       "model_id": "2b19d153600c42d1a4c50fee3e377796",
       "version_major": 2,
       "version_minor": 0
      },
      "text/plain": [
       "VBox()"
      ]
     },
     "metadata": {},
     "output_type": "display_data"
    },
    {
     "data": {
      "application/vnd.jupyter.widget-view+json": {
       "model_id": "",
       "version_major": 2,
       "version_minor": 0
      },
      "text/plain": [
       "FloatProgress(value=0.0, bar_style='info', description='Progress:', layout=Layout(height='25px', width='50%'),…"
      ]
     },
     "metadata": {},
     "output_type": "display_data"
    },
    {
     "name": "stdout",
     "output_type": "stream",
     "text": [
      "   _c0   age  gender diagnosis_date cancer_stage beginning_of_treatment_date family_history  smoking_status   bmi  cholesterol_level  hypertension  asthma  cirrhosis  other_cancer treatment_type end_treatment_date  survived\n",
      "0    1  50.0    Male     2023-04-22    Stage III                  2023-05-02            Yes  Passive Smoker  25.9                208             1       0          0             0      Radiation         2024-04-25         0\n",
      "1    2  65.0    Male     2023-04-07     Stage IV                  2023-04-12             No    Never Smoked  18.9                193             0       0          0             0        Surgery         2025-03-11         0\n",
      "2    3  51.0  Female     2016-02-07    Stage III                  2016-02-13            Yes   Former Smoker  34.6                249             1       1          1             0        Surgery         2017-04-14         1\n",
      "3    4  37.0    Male     2023-12-01      Stage I                  2023-12-03            Yes    Never Smoked  40.2                262             0       0          0             0   Chemotherapy         2024-09-20         0\n",
      "4    5  50.0    Male     2023-01-04     Stage II                  2023-01-12            Yes    Never Smoked  32.6                300             1       1          0             0      Radiation         2024-03-11         0\n",
      "/mnt/yarn/usercache/livy/appcache/application_1719888885730_0001/container_1719888885730_0001_01_000001/pyspark.zip/pyspark/pandas/utils.py:975: PandasAPIOnSparkAdviceWarning: If `index_col` is not specified for `read_csv`, the default index is attached which can cause additional overhead.\n",
      "  warnings.warn(message, PandasAPIOnSparkAdviceWarning)"
     ]
    }
   ],
   "source": [
    "import pyspark.pandas as ps\n",
    "import matplotlib.pyplot as plt\n",
    "ps.set_option('plotting.backend', 'matplotlib')\n",
    "\n",
    "#Load dataset and drop \"id\"column\n",
    "#based on our another file already explore descriptive statistics\n",
    "#we will drop 'id', 'country' for future build model\n",
    "df = 's3://gba6430-huayang-01/intro/lung_cancer_data.csv'\n",
    "df = ps.read_csv(df)\n",
    "df = df.rename(columns={'Unnamed: 0': 'id'})\n",
    "df = df.drop(columns=['id', 'country'])\n",
    "df.head()"
   ]
  },
  {
   "cell_type": "code",
   "execution_count": 125,
   "id": "33e1597d",
   "metadata": {},
   "outputs": [
    {
     "data": {
      "application/vnd.jupyter.widget-view+json": {
       "model_id": "aef71028be934d04b91a780950ccc6bc",
       "version_major": 2,
       "version_minor": 0
      },
      "text/plain": [
       "VBox()"
      ]
     },
     "metadata": {},
     "output_type": "display_data"
    },
    {
     "data": {
      "application/vnd.jupyter.widget-view+json": {
       "model_id": "",
       "version_major": 2,
       "version_minor": 0
      },
      "text/plain": [
       "FloatProgress(value=0.0, bar_style='info', description='Progress:', layout=Layout(height='25px', width='50%'),…"
      ]
     },
     "metadata": {},
     "output_type": "display_data"
    },
    {
     "name": "stdout",
     "output_type": "stream",
     "text": [
      "(10000, 17)"
     ]
    }
   ],
   "source": [
    "#check shape\n",
    "df.shape"
   ]
  },
  {
   "cell_type": "code",
   "execution_count": 126,
   "id": "afe24545",
   "metadata": {},
   "outputs": [
    {
     "data": {
      "application/vnd.jupyter.widget-view+json": {
       "model_id": "120df536dc4c4a95989697fc7259452e",
       "version_major": 2,
       "version_minor": 0
      },
      "text/plain": [
       "VBox()"
      ]
     },
     "metadata": {},
     "output_type": "display_data"
    },
    {
     "data": {
      "application/vnd.jupyter.widget-view+json": {
       "model_id": "",
       "version_major": 2,
       "version_minor": 0
      },
      "text/plain": [
       "FloatProgress(value=0.0, bar_style='info', description='Progress:', layout=Layout(height='25px', width='50%'),…"
      ]
     },
     "metadata": {},
     "output_type": "display_data"
    },
    {
     "name": "stdout",
     "output_type": "stream",
     "text": [
      "<class 'pyspark.pandas.frame.DataFrame'>\n",
      "Int64Index: 10000 entries, 0 to 9999\n",
      "Data columns (total 17 columns):\n",
      " #   Column                       Non-Null Count  Dtype  \n",
      "---  ------                       --------------  -----  \n",
      " 0   _c0                          10000 non-null  int32  \n",
      " 1   age                          10000 non-null  float64\n",
      " 2   gender                       10000 non-null  object \n",
      " 3   diagnosis_date               10000 non-null  object \n",
      " 4   cancer_stage                 10000 non-null  object \n",
      " 5   beginning_of_treatment_date  10000 non-null  object \n",
      " 6   family_history               10000 non-null  object \n",
      " 7   smoking_status               10000 non-null  object \n",
      " 8   bmi                          10000 non-null  float64\n",
      " 9   cholesterol_level            10000 non-null  int32  \n",
      " 10  hypertension                 10000 non-null  int32  \n",
      " 11  asthma                       10000 non-null  int32  \n",
      " 12  cirrhosis                    10000 non-null  int32  \n",
      " 13  other_cancer                 10000 non-null  int32  \n",
      " 14  treatment_type               10000 non-null  object \n",
      " 15  end_treatment_date           10000 non-null  object \n",
      " 16  survived                     10000 non-null  int32  \n",
      "dtypes: float64(2), int32(7), object(8)"
     ]
    }
   ],
   "source": [
    "#check data info\n",
    "df.info()"
   ]
  },
  {
   "cell_type": "code",
   "execution_count": 127,
   "id": "c294d390",
   "metadata": {},
   "outputs": [
    {
     "data": {
      "application/vnd.jupyter.widget-view+json": {
       "model_id": "",
       "version_major": 2,
       "version_minor": 0
      },
      "text/plain": [
       "FloatProgress(value=0.0, bar_style='info', description='Progress:', layout=Layout(height='25px', width='50%'),…"
      ]
     },
     "metadata": {},
     "output_type": "display_data"
    },
    {
     "data": {
      "text/html": [
       "<table><tr><th>_c0</th><th>age</th><th>gender</th><th>diagnosis_date</th><th>cancer_stage</th><th>beginning_of_treatment_date</th><th>family_history</th><th>smoking_status</th><th>bmi</th><th>cholesterol_level</th><th>hypertension</th><th>asthma</th><th>cirrhosis</th><th>other_cancer</th><th>treatment_type</th><th>end_treatment_date</th><th>survived</th></tr><tr><td>1</td><td>50.0</td><td>Male</td><td>2023-04-22</td><td>Stage III</td><td>2023-05-02</td><td>Yes</td><td>Passive Smoker</td><td>25.9</td><td>208</td><td>1</td><td>0</td><td>0</td><td>0</td><td>Radiation</td><td>2024-04-25</td><td>0</td></tr><tr><td>2</td><td>65.0</td><td>Male</td><td>2023-04-07</td><td>Stage IV</td><td>2023-04-12</td><td>No</td><td>Never Smoked</td><td>18.9</td><td>193</td><td>0</td><td>0</td><td>0</td><td>0</td><td>Surgery</td><td>2025-03-11</td><td>0</td></tr><tr><td>3</td><td>51.0</td><td>Female</td><td>2016-02-07</td><td>Stage III</td><td>2016-02-13</td><td>Yes</td><td>Former Smoker</td><td>34.6</td><td>249</td><td>1</td><td>1</td><td>1</td><td>0</td><td>Surgery</td><td>2017-04-14</td><td>1</td></tr><tr><td>4</td><td>37.0</td><td>Male</td><td>2023-12-01</td><td>Stage I</td><td>2023-12-03</td><td>Yes</td><td>Never Smoked</td><td>40.2</td><td>262</td><td>0</td><td>0</td><td>0</td><td>0</td><td>Chemotherapy</td><td>2024-09-20</td><td>0</td></tr><tr><td>5</td><td>50.0</td><td>Male</td><td>2023-01-04</td><td>Stage II</td><td>2023-01-12</td><td>Yes</td><td>Never Smoked</td><td>32.6</td><td>300</td><td>1</td><td>1</td><td>0</td><td>0</td><td>Radiation</td><td>2024-03-11</td><td>0</td></tr><tr><td>6</td><td>49.0</td><td>Male</td><td>2018-05-23</td><td>Stage IV</td><td>2018-05-30</td><td>No</td><td>Former Smoker</td><td>30.1</td><td>300</td><td>1</td><td>1</td><td>0</td><td>1</td><td>Chemotherapy</td><td>2019-07-07</td><td>0</td></tr><tr><td>7</td><td>51.0</td><td>Female</td><td>2017-02-20</td><td>Stage II</td><td>2017-02-23</td><td>Yes</td><td>Former Smoker</td><td>44.3</td><td>244</td><td>1</td><td>0</td><td>0</td><td>0</td><td>Combined</td><td>2018-10-09</td><td>0</td></tr><tr><td>8</td><td>64.0</td><td>Female</td><td>2021-03-23</td><td>Stage I</td><td>2021-04-03</td><td>Yes</td><td>Passive Smoker</td><td>26.9</td><td>161</td><td>1</td><td>0</td><td>0</td><td>0</td><td>Surgery</td><td>2023-02-13</td><td>0</td></tr><tr><td>9</td><td>56.0</td><td>Male</td><td>2021-12-02</td><td>Stage III</td><td>2021-12-04</td><td>Yes</td><td>Passive Smoker</td><td>40.9</td><td>286</td><td>1</td><td>1</td><td>0</td><td>0</td><td>Chemotherapy</td><td>2023-07-07</td><td>1</td></tr><tr><td>10</td><td>48.0</td><td>Female</td><td>2023-12-26</td><td>Stage II</td><td>2024-01-08</td><td>Yes</td><td>Passive Smoker</td><td>16.2</td><td>223</td><td>1</td><td>1</td><td>1</td><td>0</td><td>Surgery</td><td>2025-08-20</td><td>0</td></tr><tr><td>11</td><td>47.0</td><td>Female</td><td>2019-11-20</td><td>Stage II</td><td>2019-11-23</td><td>Yes</td><td>Passive Smoker</td><td>33.0</td><td>266</td><td>1</td><td>0</td><td>0</td><td>0</td><td>Chemotherapy</td><td>2021-02-13</td><td>0</td></tr><tr><td>12</td><td>67.0</td><td>Female</td><td>2024-05-28</td><td>Stage I</td><td>2024-06-04</td><td>No</td><td>Never Smoked</td><td>17.4</td><td>204</td><td>1</td><td>0</td><td>0</td><td>0</td><td>Surgery</td><td>2026-02-16</td><td>0</td></tr><tr><td>13</td><td>56.0</td><td>Male</td><td>2022-08-09</td><td>Stage III</td><td>2022-08-15</td><td>No</td><td>Current Smoker</td><td>17.9</td><td>211</td><td>1</td><td>1</td><td>0</td><td>1</td><td>Combined</td><td>2023-09-27</td><td>0</td></tr><tr><td>14</td><td>67.0</td><td>Male</td><td>2023-04-14</td><td>Stage III</td><td>2023-04-16</td><td>No</td><td>Former Smoker</td><td>33.0</td><td>295</td><td>1</td><td>1</td><td>0</td><td>0</td><td>Chemotherapy</td><td>2025-01-24</td><td>0</td></tr><tr><td>15</td><td>49.0</td><td>Female</td><td>2021-08-20</td><td>Stage I</td><td>2021-08-24</td><td>Yes</td><td>Current Smoker</td><td>37.5</td><td>244</td><td>1</td><td>1</td><td>0</td><td>0</td><td>Combined</td><td>2023-01-30</td><td>0</td></tr><tr><td>16</td><td>48.0</td><td>Female</td><td>2020-02-29</td><td>Stage I</td><td>2020-03-13</td><td>No</td><td>Passive Smoker</td><td>40.1</td><td>251</td><td>1</td><td>1</td><td>0</td><td>0</td><td>Surgery</td><td>2021-07-04</td><td>1</td></tr><tr><td>17</td><td>45.0</td><td>Male</td><td>2017-08-09</td><td>Stage IV</td><td>2017-08-14</td><td>No</td><td>Former Smoker</td><td>37.9</td><td>251</td><td>1</td><td>1</td><td>0</td><td>0</td><td>Chemotherapy</td><td>2018-05-24</td><td>1</td></tr><tr><td>18</td><td>47.0</td><td>Male</td><td>2015-08-15</td><td>Stage II</td><td>2015-08-16</td><td>Yes</td><td>Passive Smoker</td><td>34.5</td><td>243</td><td>1</td><td>1</td><td>0</td><td>0</td><td>Chemotherapy</td><td>2017-01-02</td><td>0</td></tr><tr><td>19</td><td>56.0</td><td>Male</td><td>2014-07-01</td><td>Stage IV</td><td>2014-07-03</td><td>No</td><td>Passive Smoker</td><td>31.2</td><td>268</td><td>1</td><td>0</td><td>0</td><td>0</td><td>Combined</td><td>2015-08-29</td><td>0</td></tr><tr><td>20</td><td>46.0</td><td>Female</td><td>2015-07-30</td><td>Stage IV</td><td>2015-08-03</td><td>No</td><td>Passive Smoker</td><td>31.8</td><td>251</td><td>1</td><td>0</td><td>0</td><td>0</td><td>Combined</td><td>2016-08-29</td><td>0</td></tr></table><br /><pre>only showing top 20 rows\n",
       "\n",
       "/mnt/yarn/usercache/livy/appcache/application_1719888885730_0001/container_1719888885730_0001_01_000001/pyspark.zip/pyspark/pandas/utils.py:975: PandasAPIOnSparkAdviceWarning: If `index_col` is not specified for `to_spark`, the existing index is lost when converting to Spark DataFrame.\n",
       "  warnings.warn(message, PandasAPIOnSparkAdviceWarning)</pre>"
      ],
      "text/plain": [
       "<IPython.core.display.HTML object>"
      ]
     },
     "metadata": {},
     "output_type": "display_data"
    }
   ],
   "source": [
    "%%pretty\n",
    "df.to_spark().show()"
   ]
  },
  {
   "cell_type": "code",
   "execution_count": 128,
   "id": "ed0cd6c8",
   "metadata": {},
   "outputs": [
    {
     "data": {
      "application/vnd.jupyter.widget-view+json": {
       "model_id": "6de89aad74f740e8b5b6697977c24b19",
       "version_major": 2,
       "version_minor": 0
      },
      "text/plain": [
       "VBox()"
      ]
     },
     "metadata": {},
     "output_type": "display_data"
    },
    {
     "data": {
      "application/vnd.jupyter.widget-view+json": {
       "model_id": "",
       "version_major": 2,
       "version_minor": 0
      },
      "text/plain": [
       "FloatProgress(value=0.0, bar_style='info', description='Progress:', layout=Layout(height='25px', width='50%'),…"
      ]
     },
     "metadata": {},
     "output_type": "display_data"
    }
   ],
   "source": [
    "#defien a function to plot histogram of numeric features\n",
    "def plot_hist(df, features, n_rows, n_cols):\n",
    "    fig, ax = plt.subplots(n_rows, n_cols)\n",
    "    fig.tight_layout(pad=1.5)\n",
    "    for i in range(len(features)):\n",
    "        df[features[i]].hist(ax=ax[i//n_cols, i%n_cols], title=features[i])"
   ]
  },
  {
   "cell_type": "code",
   "execution_count": 129,
   "id": "b1c3a474",
   "metadata": {},
   "outputs": [
    {
     "data": {
      "application/vnd.jupyter.widget-view+json": {
       "model_id": "8d59ad10841e468fb635cdc0e798d879",
       "version_major": 2,
       "version_minor": 0
      },
      "text/plain": [
       "VBox()"
      ]
     },
     "metadata": {},
     "output_type": "display_data"
    },
    {
     "data": {
      "application/vnd.jupyter.widget-view+json": {
       "model_id": "",
       "version_major": 2,
       "version_minor": 0
      },
      "text/plain": [
       "FloatProgress(value=0.0, bar_style='info', description='Progress:', layout=Layout(height='25px', width='50%'),…"
      ]
     },
     "metadata": {},
     "output_type": "display_data"
    },
    {
     "data": {
      "image/png": "[encoded data removed]",
      "text/plain": [
       "<IPython.core.display.Image object>"
      ]
     },
     "metadata": {},
     "output_type": "display_data"
    }
   ],
   "source": [
    "#use histgram plot explore \"bmi\", \"cholesterol_level\" numberical columns\n",
    "features = [\"bmi\", \"cholesterol_level\"]\n",
    "plot_hist(df, features=features, n_rows=2, n_cols=2)\n",
    "%matplot plt"
   ]
  },
  {
   "cell_type": "code",
   "execution_count": 130,
   "id": "d1e4be2f",
   "metadata": {},
   "outputs": [
    {
     "data": {
      "application/vnd.jupyter.widget-view+json": {
       "model_id": "7f11e1e80d394c1d9cd6c76801bdb150",
       "version_major": 2,
       "version_minor": 0
      },
      "text/plain": [
       "VBox()"
      ]
     },
     "metadata": {},
     "output_type": "display_data"
    },
    {
     "data": {
      "application/vnd.jupyter.widget-view+json": {
       "model_id": "",
       "version_major": 2,
       "version_minor": 0
      },
      "text/plain": [
       "FloatProgress(value=0.0, bar_style='info', description='Progress:', layout=Layout(height='25px', width='50%'),…"
      ]
     },
     "metadata": {},
     "output_type": "display_data"
    },
    {
     "data": {
      "image/png": "[encoded data removed]",
      "text/plain": [
       "<IPython.core.display.Image object>"
      ]
     },
     "metadata": {},
     "output_type": "display_data"
    }
   ],
   "source": [
    "#use boxplot explore \"bmi\" outlier, the result shows no outlier\n",
    "plt.clf()\n",
    "df['bmi'].plot.box()\n",
    "%matplot plt"
   ]
  },
  {
   "cell_type": "code",
   "execution_count": 131,
   "id": "c48094a3",
   "metadata": {},
   "outputs": [
    {
     "data": {
      "application/vnd.jupyter.widget-view+json": {
       "model_id": "421e2c51a95940f781af9f9f86d216f9",
       "version_major": 2,
       "version_minor": 0
      },
      "text/plain": [
       "VBox()"
      ]
     },
     "metadata": {},
     "output_type": "display_data"
    },
    {
     "data": {
      "application/vnd.jupyter.widget-view+json": {
       "model_id": "",
       "version_major": 2,
       "version_minor": 0
      },
      "text/plain": [
       "FloatProgress(value=0.0, bar_style='info', description='Progress:', layout=Layout(height='25px', width='50%'),…"
      ]
     },
     "metadata": {},
     "output_type": "display_data"
    },
    {
     "data": {
      "image/png": "[encoded data removed]",
      "text/plain": [
       "<IPython.core.display.Image object>"
      ]
     },
     "metadata": {},
     "output_type": "display_data"
    }
   ],
   "source": [
    "#use boxplot explore \"cholesterol_level\" outlier, the result shows no outlier\n",
    "plt.clf()\n",
    "df[\"cholesterol_level\"].plot.box()\n",
    "%matplot plt"
   ]
  },
  {
   "cell_type": "code",
   "execution_count": 132,
   "id": "90ed7160",
   "metadata": {},
   "outputs": [
    {
     "data": {
      "application/vnd.jupyter.widget-view+json": {
       "model_id": "e5c3729fec2a43588775c4e646b11321",
       "version_major": 2,
       "version_minor": 0
      },
      "text/plain": [
       "VBox()"
      ]
     },
     "metadata": {},
     "output_type": "display_data"
    },
    {
     "data": {
      "application/vnd.jupyter.widget-view+json": {
       "model_id": "",
       "version_major": 2,
       "version_minor": 0
      },
      "text/plain": [
       "FloatProgress(value=0.0, bar_style='info', description='Progress:', layout=Layout(height='25px', width='50%'),…"
      ]
     },
     "metadata": {},
     "output_type": "display_data"
    },
    {
     "name": "stdout",
     "output_type": "stream",
     "text": [
      "   _c0   age diagnosis_date beginning_of_treatment_date   bmi  cholesterol_level  hypertension  asthma  cirrhosis  other_cancer end_treatment_date  survived  gender_Female  gender_Male  cancer_stage_Stage I  cancer_stage_Stage II  cancer_stage_Stage III  cancer_stage_Stage IV  family_history_No  family_history_Yes  smoking_status_Current Smoker  smoking_status_Former Smoker  smoking_status_Never Smoked  smoking_status_Passive Smoker  treatment_type_Chemotherapy  treatment_type_Combined  treatment_type_Radiation  treatment_type_Surgery\n",
      "0    1  50.0     2023-04-22                  2023-05-02  25.9                208             1       0          0             0         2024-04-25         0              0            1                     0                      0                       1                      0                  0                   1                              0                             0                            0                              1                            0                        0                         1                       0\n",
      "1    2  65.0     2023-04-07                  2023-04-12  18.9                193             0       0          0             0         2025-03-11         0              0            1                     0                      0                       0                      1                  1                   0                              0                             0                            1                              0                            0                        0                         0                       1\n",
      "2    3  51.0     2016-02-07                  2016-02-13  34.6                249             1       1          1             0         2017-04-14         1              1            0                     0                      0                       1                      0                  0                   1                              0                             1                            0                              0                            0                        0                         0                       1\n",
      "3    4  37.0     2023-12-01                  2023-12-03  40.2                262             0       0          0             0         2024-09-20         0              0            1                     1                      0                       0                      0                  0                   1                              0                             0                            1                              0                            1                        0                         0                       0\n",
      "4    5  50.0     2023-01-04                  2023-01-12  32.6                300             1       1          0             0         2024-03-11         0              0            1                     0                      1                       0                      0                  0                   1                              0                             0                            1                              0                            0                        0                         1                       0"
     ]
    }
   ],
   "source": [
    "#change categarical variable as dummies\n",
    "df = ps.get_dummies(df, columns=[\"gender\",\"cancer_stage\",\"family_history\",\"smoking_status\",\"treatment_type\"], drop_first=False)\n",
    "df.head()"
   ]
  },
  {
   "cell_type": "code",
   "execution_count": 133,
   "id": "58491f5e",
   "metadata": {},
   "outputs": [
    {
     "data": {
      "application/vnd.jupyter.widget-view+json": {
       "model_id": "",
       "version_major": 2,
       "version_minor": 0
      },
      "text/plain": [
       "FloatProgress(value=0.0, bar_style='info', description='Progress:', layout=Layout(height='25px', width='50%'),…"
      ]
     },
     "metadata": {},
     "output_type": "display_data"
    },
    {
     "data": {
      "text/html": [
       "<table><tr><th>_c0</th><th>age</th><th>diagnosis_date</th><th>beginning_of_treatment_date</th><th>bmi</th><th>cholesterol_level</th><th>hypertension</th><th>asthma</th><th>cirrhosis</th><th>other_cancer</th><th>end_treatment_date</th><th>survived</th><th>gender_Female</th><th>gender_Male</th><th>cancer_stage_Stage I</th><th>cancer_stage_Stage II</th><th>cancer_stage_Stage III</th><th>cancer_stage_Stage IV</th><th>family_history_No</th><th>family_history_Yes</th><th>smoking_status_Current Smoker</th><th>smoking_status_Former Smoker</th><th>smoking_status_Never Smoked</th><th>smoking_status_Passive Smoker</th><th>treatment_type_Chemotherapy</th><th>treatment_type_Combined</th><th>treatment_type_Radiation</th><th>treatment_type_Surgery</th></tr><tr><td>1</td><td>50.0</td><td>2023-04-22</td><td>2023-05-02</td><td>25.9</td><td>208</td><td>1</td><td>0</td><td>0</td><td>0</td><td>2024-04-25</td><td>0</td><td>0</td><td>1</td><td>0</td><td>0</td><td>1</td><td>0</td><td>0</td><td>1</td><td>0</td><td>0</td><td>0</td><td>1</td><td>0</td><td>0</td><td>1</td><td>0</td></tr><tr><td>2</td><td>65.0</td><td>2023-04-07</td><td>2023-04-12</td><td>18.9</td><td>193</td><td>0</td><td>0</td><td>0</td><td>0</td><td>2025-03-11</td><td>0</td><td>0</td><td>1</td><td>0</td><td>0</td><td>0</td><td>1</td><td>1</td><td>0</td><td>0</td><td>0</td><td>1</td><td>0</td><td>0</td><td>0</td><td>0</td><td>1</td></tr><tr><td>3</td><td>51.0</td><td>2016-02-07</td><td>2016-02-13</td><td>34.6</td><td>249</td><td>1</td><td>1</td><td>1</td><td>0</td><td>2017-04-14</td><td>1</td><td>1</td><td>0</td><td>0</td><td>0</td><td>1</td><td>0</td><td>0</td><td>1</td><td>0</td><td>1</td><td>0</td><td>0</td><td>0</td><td>0</td><td>0</td><td>1</td></tr><tr><td>4</td><td>37.0</td><td>2023-12-01</td><td>2023-12-03</td><td>40.2</td><td>262</td><td>0</td><td>0</td><td>0</td><td>0</td><td>2024-09-20</td><td>0</td><td>0</td><td>1</td><td>1</td><td>0</td><td>0</td><td>0</td><td>0</td><td>1</td><td>0</td><td>0</td><td>1</td><td>0</td><td>1</td><td>0</td><td>0</td><td>0</td></tr><tr><td>5</td><td>50.0</td><td>2023-01-04</td><td>2023-01-12</td><td>32.6</td><td>300</td><td>1</td><td>1</td><td>0</td><td>0</td><td>2024-03-11</td><td>0</td><td>0</td><td>1</td><td>0</td><td>1</td><td>0</td><td>0</td><td>0</td><td>1</td><td>0</td><td>0</td><td>1</td><td>0</td><td>0</td><td>0</td><td>1</td><td>0</td></tr><tr><td>6</td><td>49.0</td><td>2018-05-23</td><td>2018-05-30</td><td>30.1</td><td>300</td><td>1</td><td>1</td><td>0</td><td>1</td><td>2019-07-07</td><td>0</td><td>0</td><td>1</td><td>0</td><td>0</td><td>0</td><td>1</td><td>1</td><td>0</td><td>0</td><td>1</td><td>0</td><td>0</td><td>1</td><td>0</td><td>0</td><td>0</td></tr><tr><td>7</td><td>51.0</td><td>2017-02-20</td><td>2017-02-23</td><td>44.3</td><td>244</td><td>1</td><td>0</td><td>0</td><td>0</td><td>2018-10-09</td><td>0</td><td>1</td><td>0</td><td>0</td><td>1</td><td>0</td><td>0</td><td>0</td><td>1</td><td>0</td><td>1</td><td>0</td><td>0</td><td>0</td><td>1</td><td>0</td><td>0</td></tr><tr><td>8</td><td>64.0</td><td>2021-03-23</td><td>2021-04-03</td><td>26.9</td><td>161</td><td>1</td><td>0</td><td>0</td><td>0</td><td>2023-02-13</td><td>0</td><td>1</td><td>0</td><td>1</td><td>0</td><td>0</td><td>0</td><td>0</td><td>1</td><td>0</td><td>0</td><td>0</td><td>1</td><td>0</td><td>0</td><td>0</td><td>1</td></tr><tr><td>9</td><td>56.0</td><td>2021-12-02</td><td>2021-12-04</td><td>40.9</td><td>286</td><td>1</td><td>1</td><td>0</td><td>0</td><td>2023-07-07</td><td>1</td><td>0</td><td>1</td><td>0</td><td>0</td><td>1</td><td>0</td><td>0</td><td>1</td><td>0</td><td>0</td><td>0</td><td>1</td><td>1</td><td>0</td><td>0</td><td>0</td></tr><tr><td>10</td><td>48.0</td><td>2023-12-26</td><td>2024-01-08</td><td>16.2</td><td>223</td><td>1</td><td>1</td><td>1</td><td>0</td><td>2025-08-20</td><td>0</td><td>1</td><td>0</td><td>0</td><td>1</td><td>0</td><td>0</td><td>0</td><td>1</td><td>0</td><td>0</td><td>0</td><td>1</td><td>0</td><td>0</td><td>0</td><td>1</td></tr><tr><td>11</td><td>47.0</td><td>2019-11-20</td><td>2019-11-23</td><td>33.0</td><td>266</td><td>1</td><td>0</td><td>0</td><td>0</td><td>2021-02-13</td><td>0</td><td>1</td><td>0</td><td>0</td><td>1</td><td>0</td><td>0</td><td>0</td><td>1</td><td>0</td><td>0</td><td>0</td><td>1</td><td>1</td><td>0</td><td>0</td><td>0</td></tr><tr><td>12</td><td>67.0</td><td>2024-05-28</td><td>2024-06-04</td><td>17.4</td><td>204</td><td>1</td><td>0</td><td>0</td><td>0</td><td>2026-02-16</td><td>0</td><td>1</td><td>0</td><td>1</td><td>0</td><td>0</td><td>0</td><td>1</td><td>0</td><td>0</td><td>0</td><td>1</td><td>0</td><td>0</td><td>0</td><td>0</td><td>1</td></tr><tr><td>13</td><td>56.0</td><td>2022-08-09</td><td>2022-08-15</td><td>17.9</td><td>211</td><td>1</td><td>1</td><td>0</td><td>1</td><td>2023-09-27</td><td>0</td><td>0</td><td>1</td><td>0</td><td>0</td><td>1</td><td>0</td><td>1</td><td>0</td><td>1</td><td>0</td><td>0</td><td>0</td><td>0</td><td>1</td><td>0</td><td>0</td></tr><tr><td>14</td><td>67.0</td><td>2023-04-14</td><td>2023-04-16</td><td>33.0</td><td>295</td><td>1</td><td>1</td><td>0</td><td>0</td><td>2025-01-24</td><td>0</td><td>0</td><td>1</td><td>0</td><td>0</td><td>1</td><td>0</td><td>1</td><td>0</td><td>0</td><td>1</td><td>0</td><td>0</td><td>1</td><td>0</td><td>0</td><td>0</td></tr><tr><td>15</td><td>49.0</td><td>2021-08-20</td><td>2021-08-24</td><td>37.5</td><td>244</td><td>1</td><td>1</td><td>0</td><td>0</td><td>2023-01-30</td><td>0</td><td>1</td><td>0</td><td>1</td><td>0</td><td>0</td><td>0</td><td>0</td><td>1</td><td>1</td><td>0</td><td>0</td><td>0</td><td>0</td><td>1</td><td>0</td><td>0</td></tr><tr><td>16</td><td>48.0</td><td>2020-02-29</td><td>2020-03-13</td><td>40.1</td><td>251</td><td>1</td><td>1</td><td>0</td><td>0</td><td>2021-07-04</td><td>1</td><td>1</td><td>0</td><td>1</td><td>0</td><td>0</td><td>0</td><td>1</td><td>0</td><td>0</td><td>0</td><td>0</td><td>1</td><td>0</td><td>0</td><td>0</td><td>1</td></tr><tr><td>17</td><td>45.0</td><td>2017-08-09</td><td>2017-08-14</td><td>37.9</td><td>251</td><td>1</td><td>1</td><td>0</td><td>0</td><td>2018-05-24</td><td>1</td><td>0</td><td>1</td><td>0</td><td>0</td><td>0</td><td>1</td><td>1</td><td>0</td><td>0</td><td>1</td><td>0</td><td>0</td><td>1</td><td>0</td><td>0</td><td>0</td></tr><tr><td>18</td><td>47.0</td><td>2015-08-15</td><td>2015-08-16</td><td>34.5</td><td>243</td><td>1</td><td>1</td><td>0</td><td>0</td><td>2017-01-02</td><td>0</td><td>0</td><td>1</td><td>0</td><td>1</td><td>0</td><td>0</td><td>0</td><td>1</td><td>0</td><td>0</td><td>0</td><td>1</td><td>1</td><td>0</td><td>0</td><td>0</td></tr><tr><td>19</td><td>56.0</td><td>2014-07-01</td><td>2014-07-03</td><td>31.2</td><td>268</td><td>1</td><td>0</td><td>0</td><td>0</td><td>2015-08-29</td><td>0</td><td>0</td><td>1</td><td>0</td><td>0</td><td>0</td><td>1</td><td>1</td><td>0</td><td>0</td><td>0</td><td>0</td><td>1</td><td>0</td><td>1</td><td>0</td><td>0</td></tr><tr><td>20</td><td>46.0</td><td>2015-07-30</td><td>2015-08-03</td><td>31.8</td><td>251</td><td>1</td><td>0</td><td>0</td><td>0</td><td>2016-08-29</td><td>0</td><td>1</td><td>0</td><td>0</td><td>0</td><td>0</td><td>1</td><td>1</td><td>0</td><td>0</td><td>0</td><td>0</td><td>1</td><td>0</td><td>1</td><td>0</td><td>0</td></tr></table><br /><pre>only showing top 20 rows\n",
       "\n",
       "/mnt/yarn/usercache/livy/appcache/application_1719888885730_0001/container_1719888885730_0001_01_000001/pyspark.zip/pyspark/pandas/utils.py:975: PandasAPIOnSparkAdviceWarning: If `index_col` is not specified for `to_spark`, the existing index is lost when converting to Spark DataFrame.\n",
       "  warnings.warn(message, PandasAPIOnSparkAdviceWarning)</pre>"
      ],
      "text/plain": [
       "<IPython.core.display.HTML object>"
      ]
     },
     "metadata": {},
     "output_type": "display_data"
    }
   ],
   "source": [
    "%%pretty\n",
    "df.to_spark().show()"
   ]
  },
  {
   "cell_type": "code",
   "execution_count": 134,
   "id": "3f7f1612",
   "metadata": {},
   "outputs": [
    {
     "data": {
      "application/vnd.jupyter.widget-view+json": {
       "model_id": "9033c6431b7e480dbecbde0e4d2ab428",
       "version_major": 2,
       "version_minor": 0
      },
      "text/plain": [
       "VBox()"
      ]
     },
     "metadata": {},
     "output_type": "display_data"
    },
    {
     "data": {
      "application/vnd.jupyter.widget-view+json": {
       "model_id": "",
       "version_major": 2,
       "version_minor": 0
      },
      "text/plain": [
       "FloatProgress(value=0.0, bar_style='info', description='Progress:', layout=Layout(height='25px', width='50%'),…"
      ]
     },
     "metadata": {},
     "output_type": "display_data"
    },
    {
     "name": "stdout",
     "output_type": "stream",
     "text": [
      "(10000, 28)"
     ]
    }
   ],
   "source": [
    "#check again, make sure dataset shape is 10000\n",
    "df.shape"
   ]
  },
  {
   "cell_type": "code",
   "execution_count": 135,
   "id": "0f461f11",
   "metadata": {},
   "outputs": [
    {
     "data": {
      "application/vnd.jupyter.widget-view+json": {
       "model_id": "0c8d99dfeddb4fd9b8af35044fa1928f",
       "version_major": 2,
       "version_minor": 0
      },
      "text/plain": [
       "VBox()"
      ]
     },
     "metadata": {},
     "output_type": "display_data"
    },
    {
     "data": {
      "application/vnd.jupyter.widget-view+json": {
       "model_id": "",
       "version_major": 2,
       "version_minor": 0
      },
      "text/plain": [
       "FloatProgress(value=0.0, bar_style='info', description='Progress:', layout=Layout(height='25px', width='50%'),…"
      ]
     },
     "metadata": {},
     "output_type": "display_data"
    },
    {
     "name": "stdout",
     "output_type": "stream",
     "text": [
      "/mnt/yarn/usercache/livy/appcache/application_1719888885730_0001/container_1719888885730_0001_01_000001/pyspark.zip/pyspark/pandas/utils.py:975: PandasAPIOnSparkAdviceWarning: `to_pandas` loads all data into the driver's memory. It should only be used if the resulting pandas DataFrame is expected to be small.\n",
      "  warnings.warn(message, PandasAPIOnSparkAdviceWarning)"
     ]
    }
   ],
   "source": [
    "#ps to pd\n",
    "import pandas as pd\n",
    "df = df.to_pandas()"
   ]
  },
  {
   "cell_type": "code",
   "execution_count": 136,
   "id": "46b25de5",
   "metadata": {},
   "outputs": [
    {
     "data": {
      "application/vnd.jupyter.widget-view+json": {
       "model_id": "37c0c1b70e774750902e6533debb3cf5",
       "version_major": 2,
       "version_minor": 0
      },
      "text/plain": [
       "VBox()"
      ]
     },
     "metadata": {},
     "output_type": "display_data"
    },
    {
     "data": {
      "application/vnd.jupyter.widget-view+json": {
       "model_id": "",
       "version_major": 2,
       "version_minor": 0
      },
      "text/plain": [
       "FloatProgress(value=0.0, bar_style='info', description='Progress:', layout=Layout(height='25px', width='50%'),…"
      ]
     },
     "metadata": {},
     "output_type": "display_data"
    }
   ],
   "source": [
    "import pandas as pd\n",
    "df['beginning_of_treatment_date'] = pd.to_datetime(df['beginning_of_treatment_date'])\n",
    "df['end_treatment_date'] = pd.to_datetime(df['end_treatment_date'])\n",
    "df['duration'] = (df['end_treatment_date'] - df['beginning_of_treatment_date']).dt.days"
   ]
  },
  {
   "cell_type": "code",
   "execution_count": 137,
   "id": "297a2312",
   "metadata": {},
   "outputs": [
    {
     "data": {
      "application/vnd.jupyter.widget-view+json": {
       "model_id": "8bfbc1a10ffd40aabcdf8cc64602d9e7",
       "version_major": 2,
       "version_minor": 0
      },
      "text/plain": [
       "VBox()"
      ]
     },
     "metadata": {},
     "output_type": "display_data"
    },
    {
     "data": {
      "application/vnd.jupyter.widget-view+json": {
       "model_id": "",
       "version_major": 2,
       "version_minor": 0
      },
      "text/plain": [
       "FloatProgress(value=0.0, bar_style='info', description='Progress:', layout=Layout(height='25px', width='50%'),…"
      ]
     },
     "metadata": {},
     "output_type": "display_data"
    }
   ],
   "source": [
    "#drop 'diagnosis_date','beginning_of_treatment_date','end_treatment_date' column\n",
    "df = df.drop(columns=['diagnosis_date','beginning_of_treatment_date','end_treatment_date'])"
   ]
  },
  {
   "cell_type": "code",
   "execution_count": 138,
   "id": "ac6648b6",
   "metadata": {},
   "outputs": [
    {
     "data": {
      "application/vnd.jupyter.widget-view+json": {
       "model_id": "fba163963f0b4d968211fcfc8ece6f01",
       "version_major": 2,
       "version_minor": 0
      },
      "text/plain": [
       "VBox()"
      ]
     },
     "metadata": {},
     "output_type": "display_data"
    },
    {
     "data": {
      "application/vnd.jupyter.widget-view+json": {
       "model_id": "",
       "version_major": 2,
       "version_minor": 0
      },
      "text/plain": [
       "FloatProgress(value=0.0, bar_style='info', description='Progress:', layout=Layout(height='25px', width='50%'),…"
      ]
     },
     "metadata": {},
     "output_type": "display_data"
    },
    {
     "name": "stdout",
     "output_type": "stream",
     "text": [
      "   _c0   age   bmi  cholesterol_level  hypertension  asthma  cirrhosis  other_cancer  survived  gender_Female  gender_Male  cancer_stage_Stage I  cancer_stage_Stage II  cancer_stage_Stage III  cancer_stage_Stage IV  family_history_No  family_history_Yes  smoking_status_Current Smoker  smoking_status_Former Smoker  smoking_status_Never Smoked  smoking_status_Passive Smoker  treatment_type_Chemotherapy  treatment_type_Combined  treatment_type_Radiation  treatment_type_Surgery  duration\n",
      "0    1  50.0  25.9                208             1       0          0             0         0              0            1                     0                      0                       1                      0                  0                   1                              0                             0                            0                              1                            0                        0                         1                       0       359\n",
      "1    2  65.0  18.9                193             0       0          0             0         0              0            1                     0                      0                       0                      1                  1                   0                              0                             0                            1                              0                            0                        0                         0                       1       699\n",
      "2    3  51.0  34.6                249             1       1          1             0         1              1            0                     0                      0                       1                      0                  0                   1                              0                             1                            0                              0                            0                        0                         0                       1       426\n",
      "3    4  37.0  40.2                262             0       0          0             0         0              0            1                     1                      0                       0                      0                  0                   1                              0                             0                            1                              0                            1                        0                         0                       0       292\n",
      "4    5  50.0  32.6                300             1       1          0             0         0              0            1                     0                      1                       0                      0                  0                   1                              0                             0                            1                              0                            0                        0                         1                       0       424"
     ]
    }
   ],
   "source": [
    "#panda to pyspark.pandas\n",
    "df = ps.from_pandas(df)\n",
    "df.head()"
   ]
  },
  {
   "cell_type": "code",
   "execution_count": 139,
   "id": "a45f3006",
   "metadata": {},
   "outputs": [
    {
     "data": {
      "application/vnd.jupyter.widget-view+json": {
       "model_id": "",
       "version_major": 2,
       "version_minor": 0
      },
      "text/plain": [
       "FloatProgress(value=0.0, bar_style='info', description='Progress:', layout=Layout(height='25px', width='50%'),…"
      ]
     },
     "metadata": {},
     "output_type": "display_data"
    },
    {
     "data": {
      "text/html": [
       "<table><tr><th>_c0</th><th>age</th><th>bmi</th><th>cholesterol_level</th><th>hypertension</th><th>asthma</th><th>cirrhosis</th><th>other_cancer</th><th>survived</th><th>gender_Female</th><th>gender_Male</th><th>cancer_stage_Stage I</th><th>cancer_stage_Stage II</th><th>cancer_stage_Stage III</th><th>cancer_stage_Stage IV</th><th>family_history_No</th><th>family_history_Yes</th><th>smoking_status_Current Smoker</th><th>smoking_status_Former Smoker</th><th>smoking_status_Never Smoked</th><th>smoking_status_Passive Smoker</th><th>treatment_type_Chemotherapy</th><th>treatment_type_Combined</th><th>treatment_type_Radiation</th><th>treatment_type_Surgery</th><th>duration</th></tr><tr><td>1</td><td>50.0</td><td>25.9</td><td>208</td><td>1</td><td>0</td><td>0</td><td>0</td><td>0</td><td>0</td><td>1</td><td>0</td><td>0</td><td>1</td><td>0</td><td>0</td><td>1</td><td>0</td><td>0</td><td>0</td><td>1</td><td>0</td><td>0</td><td>1</td><td>0</td><td>359</td></tr><tr><td>2</td><td>65.0</td><td>18.9</td><td>193</td><td>0</td><td>0</td><td>0</td><td>0</td><td>0</td><td>0</td><td>1</td><td>0</td><td>0</td><td>0</td><td>1</td><td>1</td><td>0</td><td>0</td><td>0</td><td>1</td><td>0</td><td>0</td><td>0</td><td>0</td><td>1</td><td>699</td></tr><tr><td>3</td><td>51.0</td><td>34.6</td><td>249</td><td>1</td><td>1</td><td>1</td><td>0</td><td>1</td><td>1</td><td>0</td><td>0</td><td>0</td><td>1</td><td>0</td><td>0</td><td>1</td><td>0</td><td>1</td><td>0</td><td>0</td><td>0</td><td>0</td><td>0</td><td>1</td><td>426</td></tr><tr><td>4</td><td>37.0</td><td>40.2</td><td>262</td><td>0</td><td>0</td><td>0</td><td>0</td><td>0</td><td>0</td><td>1</td><td>1</td><td>0</td><td>0</td><td>0</td><td>0</td><td>1</td><td>0</td><td>0</td><td>1</td><td>0</td><td>1</td><td>0</td><td>0</td><td>0</td><td>292</td></tr><tr><td>5</td><td>50.0</td><td>32.6</td><td>300</td><td>1</td><td>1</td><td>0</td><td>0</td><td>0</td><td>0</td><td>1</td><td>0</td><td>1</td><td>0</td><td>0</td><td>0</td><td>1</td><td>0</td><td>0</td><td>1</td><td>0</td><td>0</td><td>0</td><td>1</td><td>0</td><td>424</td></tr><tr><td>6</td><td>49.0</td><td>30.1</td><td>300</td><td>1</td><td>1</td><td>0</td><td>1</td><td>0</td><td>0</td><td>1</td><td>0</td><td>0</td><td>0</td><td>1</td><td>1</td><td>0</td><td>0</td><td>1</td><td>0</td><td>0</td><td>1</td><td>0</td><td>0</td><td>0</td><td>403</td></tr><tr><td>7</td><td>51.0</td><td>44.3</td><td>244</td><td>1</td><td>0</td><td>0</td><td>0</td><td>0</td><td>1</td><td>0</td><td>0</td><td>1</td><td>0</td><td>0</td><td>0</td><td>1</td><td>0</td><td>1</td><td>0</td><td>0</td><td>0</td><td>1</td><td>0</td><td>0</td><td>593</td></tr><tr><td>8</td><td>64.0</td><td>26.9</td><td>161</td><td>1</td><td>0</td><td>0</td><td>0</td><td>0</td><td>1</td><td>0</td><td>1</td><td>0</td><td>0</td><td>0</td><td>0</td><td>1</td><td>0</td><td>0</td><td>0</td><td>1</td><td>0</td><td>0</td><td>0</td><td>1</td><td>681</td></tr><tr><td>9</td><td>56.0</td><td>40.9</td><td>286</td><td>1</td><td>1</td><td>0</td><td>0</td><td>1</td><td>0</td><td>1</td><td>0</td><td>0</td><td>1</td><td>0</td><td>0</td><td>1</td><td>0</td><td>0</td><td>0</td><td>1</td><td>1</td><td>0</td><td>0</td><td>0</td><td>580</td></tr><tr><td>10</td><td>48.0</td><td>16.2</td><td>223</td><td>1</td><td>1</td><td>1</td><td>0</td><td>0</td><td>1</td><td>0</td><td>0</td><td>1</td><td>0</td><td>0</td><td>0</td><td>1</td><td>0</td><td>0</td><td>0</td><td>1</td><td>0</td><td>0</td><td>0</td><td>1</td><td>590</td></tr><tr><td>11</td><td>47.0</td><td>33.0</td><td>266</td><td>1</td><td>0</td><td>0</td><td>0</td><td>0</td><td>1</td><td>0</td><td>0</td><td>1</td><td>0</td><td>0</td><td>0</td><td>1</td><td>0</td><td>0</td><td>0</td><td>1</td><td>1</td><td>0</td><td>0</td><td>0</td><td>448</td></tr><tr><td>12</td><td>67.0</td><td>17.4</td><td>204</td><td>1</td><td>0</td><td>0</td><td>0</td><td>0</td><td>1</td><td>0</td><td>1</td><td>0</td><td>0</td><td>0</td><td>1</td><td>0</td><td>0</td><td>0</td><td>1</td><td>0</td><td>0</td><td>0</td><td>0</td><td>1</td><td>622</td></tr><tr><td>13</td><td>56.0</td><td>17.9</td><td>211</td><td>1</td><td>1</td><td>0</td><td>1</td><td>0</td><td>0</td><td>1</td><td>0</td><td>0</td><td>1</td><td>0</td><td>1</td><td>0</td><td>1</td><td>0</td><td>0</td><td>0</td><td>0</td><td>1</td><td>0</td><td>0</td><td>408</td></tr><tr><td>14</td><td>67.0</td><td>33.0</td><td>295</td><td>1</td><td>1</td><td>0</td><td>0</td><td>0</td><td>0</td><td>1</td><td>0</td><td>0</td><td>1</td><td>0</td><td>1</td><td>0</td><td>0</td><td>1</td><td>0</td><td>0</td><td>1</td><td>0</td><td>0</td><td>0</td><td>649</td></tr><tr><td>15</td><td>49.0</td><td>37.5</td><td>244</td><td>1</td><td>1</td><td>0</td><td>0</td><td>0</td><td>1</td><td>0</td><td>1</td><td>0</td><td>0</td><td>0</td><td>0</td><td>1</td><td>1</td><td>0</td><td>0</td><td>0</td><td>0</td><td>1</td><td>0</td><td>0</td><td>524</td></tr><tr><td>16</td><td>48.0</td><td>40.1</td><td>251</td><td>1</td><td>1</td><td>0</td><td>0</td><td>1</td><td>1</td><td>0</td><td>1</td><td>0</td><td>0</td><td>0</td><td>1</td><td>0</td><td>0</td><td>0</td><td>0</td><td>1</td><td>0</td><td>0</td><td>0</td><td>1</td><td>478</td></tr><tr><td>17</td><td>45.0</td><td>37.9</td><td>251</td><td>1</td><td>1</td><td>0</td><td>0</td><td>1</td><td>0</td><td>1</td><td>0</td><td>0</td><td>0</td><td>1</td><td>1</td><td>0</td><td>0</td><td>1</td><td>0</td><td>0</td><td>1</td><td>0</td><td>0</td><td>0</td><td>283</td></tr><tr><td>18</td><td>47.0</td><td>34.5</td><td>243</td><td>1</td><td>1</td><td>0</td><td>0</td><td>0</td><td>0</td><td>1</td><td>0</td><td>1</td><td>0</td><td>0</td><td>0</td><td>1</td><td>0</td><td>0</td><td>0</td><td>1</td><td>1</td><td>0</td><td>0</td><td>0</td><td>505</td></tr><tr><td>19</td><td>56.0</td><td>31.2</td><td>268</td><td>1</td><td>0</td><td>0</td><td>0</td><td>0</td><td>0</td><td>1</td><td>0</td><td>0</td><td>0</td><td>1</td><td>1</td><td>0</td><td>0</td><td>0</td><td>0</td><td>1</td><td>0</td><td>1</td><td>0</td><td>0</td><td>422</td></tr><tr><td>20</td><td>46.0</td><td>31.8</td><td>251</td><td>1</td><td>0</td><td>0</td><td>0</td><td>0</td><td>1</td><td>0</td><td>0</td><td>0</td><td>0</td><td>1</td><td>1</td><td>0</td><td>0</td><td>0</td><td>0</td><td>1</td><td>0</td><td>1</td><td>0</td><td>0</td><td>392</td></tr></table><br /><pre>only showing top 20 rows\n",
       "\n",
       "/mnt/yarn/usercache/livy/appcache/application_1719888885730_0001/container_1719888885730_0001_01_000001/pyspark.zip/pyspark/pandas/utils.py:975: PandasAPIOnSparkAdviceWarning: If `index_col` is not specified for `to_spark`, the existing index is lost when converting to Spark DataFrame.\n",
       "  warnings.warn(message, PandasAPIOnSparkAdviceWarning)</pre>"
      ],
      "text/plain": [
       "<IPython.core.display.HTML object>"
      ]
     },
     "metadata": {},
     "output_type": "display_data"
    }
   ],
   "source": [
    "%%pretty\n",
    "df.to_spark().show()"
   ]
  },
  {
   "cell_type": "code",
   "execution_count": 140,
   "id": "a4838aa0",
   "metadata": {},
   "outputs": [
    {
     "data": {
      "application/vnd.jupyter.widget-view+json": {
       "model_id": "d046d915024949e3a6013abb3057d34e",
       "version_major": 2,
       "version_minor": 0
      },
      "text/plain": [
       "VBox()"
      ]
     },
     "metadata": {},
     "output_type": "display_data"
    },
    {
     "data": {
      "application/vnd.jupyter.widget-view+json": {
       "model_id": "",
       "version_major": 2,
       "version_minor": 0
      },
      "text/plain": [
       "FloatProgress(value=0.0, bar_style='info', description='Progress:', layout=Layout(height='25px', width='50%'),…"
      ]
     },
     "metadata": {},
     "output_type": "display_data"
    },
    {
     "name": "stdout",
     "output_type": "stream",
     "text": [
      "(10000, 26)"
     ]
    }
   ],
   "source": [
    "#check shape again\n",
    "df.shape"
   ]
  },
  {
   "cell_type": "code",
   "execution_count": null,
   "id": "462a2851",
   "metadata": {},
   "outputs": [],
   "source": []
  }
 ],
 "metadata": {
  "kernelspec": {
   "display_name": "PySpark",
   "language": "python",
   "name": "pysparkkernel"
  },
  "language_info": {
   "codemirror_mode": {
    "name": "python",
    "version": 3
   },
   "file_extension": ".py",
   "mimetype": "text/x-python",
   "name": "pyspark",
   "pygments_lexer": "python3"
  }
 },
 "nbformat": 4,
 "nbformat_minor": 5
}
