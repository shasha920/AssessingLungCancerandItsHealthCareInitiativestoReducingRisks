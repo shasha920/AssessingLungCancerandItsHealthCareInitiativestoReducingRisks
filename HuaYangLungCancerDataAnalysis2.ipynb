{
 "cells": [
  {
   "cell_type": "markdown",
   "id": "9bf804a4",
   "metadata": {},
   "source": [
    "PROJECT TEAM: HUA YANG, JENNY LAM, OLIVIA MALAGON"
   ]
  },
  {
   "cell_type": "code",
   "execution_count": 26,
   "id": "4ea783d5",
   "metadata": {},
   "outputs": [
    {
     "data": {
      "application/vnd.jupyter.widget-view+json": {
       "model_id": "a4ff9da9ddd34319b0194db5494632f3",
       "version_major": 2,
       "version_minor": 0
      },
      "text/plain": [
       "VBox()"
      ]
     },
     "metadata": {},
     "output_type": "display_data"
    },
    {
     "data": {
      "application/vnd.jupyter.widget-view+json": {
       "model_id": "",
       "version_major": 2,
       "version_minor": 0
      },
      "text/plain": [
       "FloatProgress(value=0.0, bar_style='info', description='Progress:', layout=Layout(height='25px', width='50%'),…"
      ]
     },
     "metadata": {},
     "output_type": "display_data"
    },
    {
     "name": "stdout",
     "output_type": "stream",
     "text": [
      "   _c0   age  gender diagnosis_date cancer_stage beginning_of_treatment_date family_history  smoking_status   bmi  cholesterol_level  hypertension  asthma  cirrhosis  other_cancer treatment_type end_treatment_date  survived\n",
      "0    1  50.0    Male     2023-04-22    Stage III                  2023-05-02            Yes  Passive Smoker  25.9                208             1       0          0             0      Radiation         2024-04-25         0\n",
      "1    2  65.0    Male     2023-04-07     Stage IV                  2023-04-12             No    Never Smoked  18.9                193             0       0          0             0        Surgery         2025-03-11         0\n",
      "2    3  51.0  Female     2016-02-07    Stage III                  2016-02-13            Yes   Former Smoker  34.6                249             1       1          1             0        Surgery         2017-04-14         1\n",
      "3    4  37.0    Male     2023-12-01      Stage I                  2023-12-03            Yes    Never Smoked  40.2                262             0       0          0             0   Chemotherapy         2024-09-20         0\n",
      "4    5  50.0    Male     2023-01-04     Stage II                  2023-01-12            Yes    Never Smoked  32.6                300             1       1          0             0      Radiation         2024-03-11         0\n",
      "/mnt1/yarn/usercache/livy/appcache/application_1722220953791_0003/container_1722220953791_0003_01_000001/pyspark.zip/pyspark/pandas/utils.py:975: PandasAPIOnSparkAdviceWarning: If `index_col` is not specified for `read_csv`, the default index is attached which can cause additional overhead.\n",
      "  warnings.warn(message, PandasAPIOnSparkAdviceWarning)"
     ]
    }
   ],
   "source": [
    "import pyspark.pandas as ps\n",
    "import matplotlib.pyplot as plt\n",
    "ps.set_option('plotting.backend', 'matplotlib')\n",
    "from pyspark.sql import SparkSession\n",
    "from pyspark.sql.functions import col\n",
    "from pyspark.ml.classification import LogisticRegression\n",
    "from pyspark.ml.tuning import ParamGridBuilder, CrossValidator\n",
    "from pyspark.ml.classification import GBTClassifier\n",
    "from pyspark.ml.evaluation import BinaryClassificationEvaluator\n",
    "from pyspark.ml.evaluation import BinaryClassificationEvaluator\n",
    "from pyspark.ml.feature import VectorAssembler, StringIndexer\n",
    "from pyspark.ml.classification import RandomForestClassifier\n",
    "from pyspark.ml.evaluation import MulticlassClassificationEvaluator\n",
    "from pyspark.ml.clustering import KMeans\n",
    "from pyspark.ml.evaluation import ClusteringEvaluator\n",
    "\n",
    "#Load dataset and drop \"id\"column\n",
    "#based on our another file already explore descriptive statistics\n",
    "#we will drop 'id', 'country' for future build model\n",
    "df = 's3://gba6430-huayang-01/intro/lung_cancer_data.csv'\n",
    "df = ps.read_csv(df)\n",
    "df = df.rename(columns={'Unnamed: 0': 'id'})\n",
    "df = df.drop(columns=['id', 'country'])\n",
    "df.head()"
   ]
  },
  {
   "cell_type": "code",
   "execution_count": 27,
   "id": "33e1597d",
   "metadata": {},
   "outputs": [
    {
     "data": {
      "application/vnd.jupyter.widget-view+json": {
       "model_id": "e1d5c2d5ef1b4c879b920a5591dab07a",
       "version_major": 2,
       "version_minor": 0
      },
      "text/plain": [
       "VBox()"
      ]
     },
     "metadata": {},
     "output_type": "display_data"
    },
    {
     "data": {
      "application/vnd.jupyter.widget-view+json": {
       "model_id": "",
       "version_major": 2,
       "version_minor": 0
      },
      "text/plain": [
       "FloatProgress(value=0.0, bar_style='info', description='Progress:', layout=Layout(height='25px', width='50%'),…"
      ]
     },
     "metadata": {},
     "output_type": "display_data"
    },
    {
     "name": "stdout",
     "output_type": "stream",
     "text": [
      "(10000, 17)"
     ]
    }
   ],
   "source": [
    "#check shape\n",
    "df.shape"
   ]
  },
  {
   "cell_type": "code",
   "execution_count": 28,
   "id": "afe24545",
   "metadata": {},
   "outputs": [
    {
     "data": {
      "application/vnd.jupyter.widget-view+json": {
       "model_id": "2c81395225bb4c9eafeb1ee5dcf84e94",
       "version_major": 2,
       "version_minor": 0
      },
      "text/plain": [
       "VBox()"
      ]
     },
     "metadata": {},
     "output_type": "display_data"
    },
    {
     "data": {
      "application/vnd.jupyter.widget-view+json": {
       "model_id": "",
       "version_major": 2,
       "version_minor": 0
      },
      "text/plain": [
       "FloatProgress(value=0.0, bar_style='info', description='Progress:', layout=Layout(height='25px', width='50%'),…"
      ]
     },
     "metadata": {},
     "output_type": "display_data"
    },
    {
     "name": "stdout",
     "output_type": "stream",
     "text": [
      "<class 'pyspark.pandas.frame.DataFrame'>\n",
      "Int64Index: 10000 entries, 0 to 9999\n",
      "Data columns (total 17 columns):\n",
      " #   Column                       Non-Null Count  Dtype  \n",
      "---  ------                       --------------  -----  \n",
      " 0   _c0                          10000 non-null  int32  \n",
      " 1   age                          10000 non-null  float64\n",
      " 2   gender                       10000 non-null  object \n",
      " 3   diagnosis_date               10000 non-null  object \n",
      " 4   cancer_stage                 10000 non-null  object \n",
      " 5   beginning_of_treatment_date  10000 non-null  object \n",
      " 6   family_history               10000 non-null  object \n",
      " 7   smoking_status               10000 non-null  object \n",
      " 8   bmi                          10000 non-null  float64\n",
      " 9   cholesterol_level            10000 non-null  int32  \n",
      " 10  hypertension                 10000 non-null  int32  \n",
      " 11  asthma                       10000 non-null  int32  \n",
      " 12  cirrhosis                    10000 non-null  int32  \n",
      " 13  other_cancer                 10000 non-null  int32  \n",
      " 14  treatment_type               10000 non-null  object \n",
      " 15  end_treatment_date           10000 non-null  object \n",
      " 16  survived                     10000 non-null  int32  \n",
      "dtypes: float64(2), int32(7), object(8)"
     ]
    }
   ],
   "source": [
    "#check data info\n",
    "df.info()"
   ]
  },
  {
   "cell_type": "code",
   "execution_count": 29,
   "id": "c294d390",
   "metadata": {},
   "outputs": [
    {
     "data": {
      "application/vnd.jupyter.widget-view+json": {
       "model_id": "",
       "version_major": 2,
       "version_minor": 0
      },
      "text/plain": [
       "FloatProgress(value=0.0, bar_style='info', description='Progress:', layout=Layout(height='25px', width='50%'),…"
      ]
     },
     "metadata": {},
     "output_type": "display_data"
    },
    {
     "data": {
      "text/html": [
       "<table><tr><th>_c0</th><th>age</th><th>gender</th><th>diagnosis_date</th><th>cancer_stage</th><th>beginning_of_treatment_date</th><th>family_history</th><th>smoking_status</th><th>bmi</th><th>cholesterol_level</th><th>hypertension</th><th>asthma</th><th>cirrhosis</th><th>other_cancer</th><th>treatment_type</th><th>end_treatment_date</th><th>survived</th></tr><tr><td>1</td><td>50.0</td><td>Male</td><td>2023-04-22</td><td>Stage III</td><td>2023-05-02</td><td>Yes</td><td>Passive Smoker</td><td>25.9</td><td>208</td><td>1</td><td>0</td><td>0</td><td>0</td><td>Radiation</td><td>2024-04-25</td><td>0</td></tr><tr><td>2</td><td>65.0</td><td>Male</td><td>2023-04-07</td><td>Stage IV</td><td>2023-04-12</td><td>No</td><td>Never Smoked</td><td>18.9</td><td>193</td><td>0</td><td>0</td><td>0</td><td>0</td><td>Surgery</td><td>2025-03-11</td><td>0</td></tr><tr><td>3</td><td>51.0</td><td>Female</td><td>2016-02-07</td><td>Stage III</td><td>2016-02-13</td><td>Yes</td><td>Former Smoker</td><td>34.6</td><td>249</td><td>1</td><td>1</td><td>1</td><td>0</td><td>Surgery</td><td>2017-04-14</td><td>1</td></tr><tr><td>4</td><td>37.0</td><td>Male</td><td>2023-12-01</td><td>Stage I</td><td>2023-12-03</td><td>Yes</td><td>Never Smoked</td><td>40.2</td><td>262</td><td>0</td><td>0</td><td>0</td><td>0</td><td>Chemotherapy</td><td>2024-09-20</td><td>0</td></tr><tr><td>5</td><td>50.0</td><td>Male</td><td>2023-01-04</td><td>Stage II</td><td>2023-01-12</td><td>Yes</td><td>Never Smoked</td><td>32.6</td><td>300</td><td>1</td><td>1</td><td>0</td><td>0</td><td>Radiation</td><td>2024-03-11</td><td>0</td></tr><tr><td>6</td><td>49.0</td><td>Male</td><td>2018-05-23</td><td>Stage IV</td><td>2018-05-30</td><td>No</td><td>Former Smoker</td><td>30.1</td><td>300</td><td>1</td><td>1</td><td>0</td><td>1</td><td>Chemotherapy</td><td>2019-07-07</td><td>0</td></tr><tr><td>7</td><td>51.0</td><td>Female</td><td>2017-02-20</td><td>Stage II</td><td>2017-02-23</td><td>Yes</td><td>Former Smoker</td><td>44.3</td><td>244</td><td>1</td><td>0</td><td>0</td><td>0</td><td>Combined</td><td>2018-10-09</td><td>0</td></tr><tr><td>8</td><td>64.0</td><td>Female</td><td>2021-03-23</td><td>Stage I</td><td>2021-04-03</td><td>Yes</td><td>Passive Smoker</td><td>26.9</td><td>161</td><td>1</td><td>0</td><td>0</td><td>0</td><td>Surgery</td><td>2023-02-13</td><td>0</td></tr><tr><td>9</td><td>56.0</td><td>Male</td><td>2021-12-02</td><td>Stage III</td><td>2021-12-04</td><td>Yes</td><td>Passive Smoker</td><td>40.9</td><td>286</td><td>1</td><td>1</td><td>0</td><td>0</td><td>Chemotherapy</td><td>2023-07-07</td><td>1</td></tr><tr><td>10</td><td>48.0</td><td>Female</td><td>2023-12-26</td><td>Stage II</td><td>2024-01-08</td><td>Yes</td><td>Passive Smoker</td><td>16.2</td><td>223</td><td>1</td><td>1</td><td>1</td><td>0</td><td>Surgery</td><td>2025-08-20</td><td>0</td></tr><tr><td>11</td><td>47.0</td><td>Female</td><td>2019-11-20</td><td>Stage II</td><td>2019-11-23</td><td>Yes</td><td>Passive Smoker</td><td>33.0</td><td>266</td><td>1</td><td>0</td><td>0</td><td>0</td><td>Chemotherapy</td><td>2021-02-13</td><td>0</td></tr><tr><td>12</td><td>67.0</td><td>Female</td><td>2024-05-28</td><td>Stage I</td><td>2024-06-04</td><td>No</td><td>Never Smoked</td><td>17.4</td><td>204</td><td>1</td><td>0</td><td>0</td><td>0</td><td>Surgery</td><td>2026-02-16</td><td>0</td></tr><tr><td>13</td><td>56.0</td><td>Male</td><td>2022-08-09</td><td>Stage III</td><td>2022-08-15</td><td>No</td><td>Current Smoker</td><td>17.9</td><td>211</td><td>1</td><td>1</td><td>0</td><td>1</td><td>Combined</td><td>2023-09-27</td><td>0</td></tr><tr><td>14</td><td>67.0</td><td>Male</td><td>2023-04-14</td><td>Stage III</td><td>2023-04-16</td><td>No</td><td>Former Smoker</td><td>33.0</td><td>295</td><td>1</td><td>1</td><td>0</td><td>0</td><td>Chemotherapy</td><td>2025-01-24</td><td>0</td></tr><tr><td>15</td><td>49.0</td><td>Female</td><td>2021-08-20</td><td>Stage I</td><td>2021-08-24</td><td>Yes</td><td>Current Smoker</td><td>37.5</td><td>244</td><td>1</td><td>1</td><td>0</td><td>0</td><td>Combined</td><td>2023-01-30</td><td>0</td></tr><tr><td>16</td><td>48.0</td><td>Female</td><td>2020-02-29</td><td>Stage I</td><td>2020-03-13</td><td>No</td><td>Passive Smoker</td><td>40.1</td><td>251</td><td>1</td><td>1</td><td>0</td><td>0</td><td>Surgery</td><td>2021-07-04</td><td>1</td></tr><tr><td>17</td><td>45.0</td><td>Male</td><td>2017-08-09</td><td>Stage IV</td><td>2017-08-14</td><td>No</td><td>Former Smoker</td><td>37.9</td><td>251</td><td>1</td><td>1</td><td>0</td><td>0</td><td>Chemotherapy</td><td>2018-05-24</td><td>1</td></tr><tr><td>18</td><td>47.0</td><td>Male</td><td>2015-08-15</td><td>Stage II</td><td>2015-08-16</td><td>Yes</td><td>Passive Smoker</td><td>34.5</td><td>243</td><td>1</td><td>1</td><td>0</td><td>0</td><td>Chemotherapy</td><td>2017-01-02</td><td>0</td></tr><tr><td>19</td><td>56.0</td><td>Male</td><td>2014-07-01</td><td>Stage IV</td><td>2014-07-03</td><td>No</td><td>Passive Smoker</td><td>31.2</td><td>268</td><td>1</td><td>0</td><td>0</td><td>0</td><td>Combined</td><td>2015-08-29</td><td>0</td></tr><tr><td>20</td><td>46.0</td><td>Female</td><td>2015-07-30</td><td>Stage IV</td><td>2015-08-03</td><td>No</td><td>Passive Smoker</td><td>31.8</td><td>251</td><td>1</td><td>0</td><td>0</td><td>0</td><td>Combined</td><td>2016-08-29</td><td>0</td></tr></table><br /><pre>only showing top 20 rows\n",
       "\n",
       "/mnt1/yarn/usercache/livy/appcache/application_1722220953791_0003/container_1722220953791_0003_01_000001/pyspark.zip/pyspark/pandas/utils.py:975: PandasAPIOnSparkAdviceWarning: If `index_col` is not specified for `to_spark`, the existing index is lost when converting to Spark DataFrame.\n",
       "  warnings.warn(message, PandasAPIOnSparkAdviceWarning)</pre>"
      ],
      "text/plain": [
       "<IPython.core.display.HTML object>"
      ]
     },
     "metadata": {},
     "output_type": "display_data"
    }
   ],
   "source": [
    "%%pretty\n",
    "df.to_spark().show()"
   ]
  },
  {
   "cell_type": "code",
   "execution_count": 30,
   "id": "ed0cd6c8",
   "metadata": {},
   "outputs": [
    {
     "data": {
      "application/vnd.jupyter.widget-view+json": {
       "model_id": "6bc51315c9c545f79330db28dc00d3c2",
       "version_major": 2,
       "version_minor": 0
      },
      "text/plain": [
       "VBox()"
      ]
     },
     "metadata": {},
     "output_type": "display_data"
    },
    {
     "data": {
      "application/vnd.jupyter.widget-view+json": {
       "model_id": "",
       "version_major": 2,
       "version_minor": 0
      },
      "text/plain": [
       "FloatProgress(value=0.0, bar_style='info', description='Progress:', layout=Layout(height='25px', width='50%'),…"
      ]
     },
     "metadata": {},
     "output_type": "display_data"
    }
   ],
   "source": [
    "#defien a function to plot histogram of numeric features\n",
    "def plot_hist(df, features, n_rows, n_cols):\n",
    "    fig, ax = plt.subplots(n_rows, n_cols)\n",
    "    fig.tight_layout(pad=1.5)\n",
    "    for i in range(len(features)):\n",
    "        df[features[i]].hist(ax=ax[i//n_cols, i%n_cols], title=features[i])"
   ]
  },
  {
   "cell_type": "code",
   "execution_count": 31,
   "id": "b1c3a474",
   "metadata": {},
   "outputs": [
    {
     "data": {
      "application/vnd.jupyter.widget-view+json": {
       "model_id": "52e9ad2c29db40488f46b8bc024b018c",
       "version_major": 2,
       "version_minor": 0
      },
      "text/plain": [
       "VBox()"
      ]
     },
     "metadata": {},
     "output_type": "display_data"
    },
    {
     "data": {
      "application/vnd.jupyter.widget-view+json": {
       "model_id": "",
       "version_major": 2,
       "version_minor": 0
      },
      "text/plain": [
       "FloatProgress(value=0.0, bar_style='info', description='Progress:', layout=Layout(height='25px', width='50%'),…"
      ]
     },
     "metadata": {},
     "output_type": "display_data"
    },
    {
     "data": {
      "image/png": "[encoded data removed]",
      "text/plain": [
       "<IPython.core.display.Image object>"
      ]
     },
     "metadata": {},
     "output_type": "display_data"
    }
   ],
   "source": [
    "#use histgram plot explore \"bmi\", \"cholesterol_level\" numberical columns\n",
    "features = [\"bmi\", \"cholesterol_level\"]\n",
    "plot_hist(df, features=features, n_rows=2, n_cols=2)\n",
    "%matplot plt"
   ]
  },
  {
   "cell_type": "code",
   "execution_count": 32,
   "id": "d1e4be2f",
   "metadata": {},
   "outputs": [
    {
     "data": {
      "application/vnd.jupyter.widget-view+json": {
       "model_id": "fb19ed27a65d4f7db1bd669356297a60",
       "version_major": 2,
       "version_minor": 0
      },
      "text/plain": [
       "VBox()"
      ]
     },
     "metadata": {},
     "output_type": "display_data"
    },
    {
     "data": {
      "application/vnd.jupyter.widget-view+json": {
       "model_id": "",
       "version_major": 2,
       "version_minor": 0
      },
      "text/plain": [
       "FloatProgress(value=0.0, bar_style='info', description='Progress:', layout=Layout(height='25px', width='50%'),…"
      ]
     },
     "metadata": {},
     "output_type": "display_data"
    },
    {
     "data": {
      "image/png": "[encoded data removed]",
      "text/plain": [
       "<IPython.core.display.Image object>"
      ]
     },
     "metadata": {},
     "output_type": "display_data"
    }
   ],
   "source": [
    "#use boxplot explore \"bmi\" outlier, the result shows no outlier\n",
    "plt.clf()\n",
    "df['bmi'].plot.box()\n",
    "%matplot plt"
   ]
  },
  {
   "cell_type": "code",
   "execution_count": 33,
   "id": "c48094a3",
   "metadata": {},
   "outputs": [
    {
     "data": {
      "application/vnd.jupyter.widget-view+json": {
       "model_id": "691f84078a064229bd6ba06dea6f40e3",
       "version_major": 2,
       "version_minor": 0
      },
      "text/plain": [
       "VBox()"
      ]
     },
     "metadata": {},
     "output_type": "display_data"
    },
    {
     "data": {
      "application/vnd.jupyter.widget-view+json": {
       "model_id": "",
       "version_major": 2,
       "version_minor": 0
      },
      "text/plain": [
       "FloatProgress(value=0.0, bar_style='info', description='Progress:', layout=Layout(height='25px', width='50%'),…"
      ]
     },
     "metadata": {},
     "output_type": "display_data"
    },
    {
     "data": {
      "image/png": "[encoded data removed]",
      "text/plain": [
       "<IPython.core.display.Image object>"
      ]
     },
     "metadata": {},
     "output_type": "display_data"
    }
   ],
   "source": [
    "#use boxplot explore \"cholesterol_level\" outlier, the result shows no outlier\n",
    "plt.clf()\n",
    "df[\"cholesterol_level\"].plot.box()\n",
    "%matplot plt"
   ]
  },
  {
   "cell_type": "code",
   "execution_count": 34,
   "id": "90ed7160",
   "metadata": {},
   "outputs": [
    {
     "data": {
      "application/vnd.jupyter.widget-view+json": {
       "model_id": "961c1efa0d774a4eb2fcedbff2ef80e3",
       "version_major": 2,
       "version_minor": 0
      },
      "text/plain": [
       "VBox()"
      ]
     },
     "metadata": {},
     "output_type": "display_data"
    },
    {
     "data": {
      "application/vnd.jupyter.widget-view+json": {
       "model_id": "",
       "version_major": 2,
       "version_minor": 0
      },
      "text/plain": [
       "FloatProgress(value=0.0, bar_style='info', description='Progress:', layout=Layout(height='25px', width='50%'),…"
      ]
     },
     "metadata": {},
     "output_type": "display_data"
    },
    {
     "name": "stdout",
     "output_type": "stream",
     "text": [
      "   _c0   age diagnosis_date beginning_of_treatment_date   bmi  cholesterol_level  hypertension  asthma  cirrhosis  other_cancer end_treatment_date  survived  gender_Female  gender_Male  cancer_stage_Stage I  cancer_stage_Stage II  cancer_stage_Stage III  cancer_stage_Stage IV  family_history_No  family_history_Yes  smoking_status_Current Smoker  smoking_status_Former Smoker  smoking_status_Never Smoked  smoking_status_Passive Smoker  treatment_type_Chemotherapy  treatment_type_Combined  treatment_type_Radiation  treatment_type_Surgery\n",
      "0    1  50.0     2023-04-22                  2023-05-02  25.9                208             1       0          0             0         2024-04-25         0              0            1                     0                      0                       1                      0                  0                   1                              0                             0                            0                              1                            0                        0                         1                       0\n",
      "1    2  65.0     2023-04-07                  2023-04-12  18.9                193             0       0          0             0         2025-03-11         0              0            1                     0                      0                       0                      1                  1                   0                              0                             0                            1                              0                            0                        0                         0                       1\n",
      "2    3  51.0     2016-02-07                  2016-02-13  34.6                249             1       1          1             0         2017-04-14         1              1            0                     0                      0                       1                      0                  0                   1                              0                             1                            0                              0                            0                        0                         0                       1\n",
      "3    4  37.0     2023-12-01                  2023-12-03  40.2                262             0       0          0             0         2024-09-20         0              0            1                     1                      0                       0                      0                  0                   1                              0                             0                            1                              0                            1                        0                         0                       0\n",
      "4    5  50.0     2023-01-04                  2023-01-12  32.6                300             1       1          0             0         2024-03-11         0              0            1                     0                      1                       0                      0                  0                   1                              0                             0                            1                              0                            0                        0                         1                       0"
     ]
    }
   ],
   "source": [
    "#change categarical variable as dummies\n",
    "df = ps.get_dummies(df, columns=[\"gender\",\"cancer_stage\",\"family_history\",\"smoking_status\",\"treatment_type\"], drop_first=False)\n",
    "df.head()"
   ]
  },
  {
   "cell_type": "code",
   "execution_count": 35,
   "id": "58491f5e",
   "metadata": {},
   "outputs": [
    {
     "data": {
      "application/vnd.jupyter.widget-view+json": {
       "model_id": "",
       "version_major": 2,
       "version_minor": 0
      },
      "text/plain": [
       "FloatProgress(value=0.0, bar_style='info', description='Progress:', layout=Layout(height='25px', width='50%'),…"
      ]
     },
     "metadata": {},
     "output_type": "display_data"
    },
    {
     "data": {
      "text/html": [
       "<table><tr><th>_c0</th><th>age</th><th>diagnosis_date</th><th>beginning_of_treatment_date</th><th>bmi</th><th>cholesterol_level</th><th>hypertension</th><th>asthma</th><th>cirrhosis</th><th>other_cancer</th><th>end_treatment_date</th><th>survived</th><th>gender_Female</th><th>gender_Male</th><th>cancer_stage_Stage I</th><th>cancer_stage_Stage II</th><th>cancer_stage_Stage III</th><th>cancer_stage_Stage IV</th><th>family_history_No</th><th>family_history_Yes</th><th>smoking_status_Current Smoker</th><th>smoking_status_Former Smoker</th><th>smoking_status_Never Smoked</th><th>smoking_status_Passive Smoker</th><th>treatment_type_Chemotherapy</th><th>treatment_type_Combined</th><th>treatment_type_Radiation</th><th>treatment_type_Surgery</th></tr><tr><td>1</td><td>50.0</td><td>2023-04-22</td><td>2023-05-02</td><td>25.9</td><td>208</td><td>1</td><td>0</td><td>0</td><td>0</td><td>2024-04-25</td><td>0</td><td>0</td><td>1</td><td>0</td><td>0</td><td>1</td><td>0</td><td>0</td><td>1</td><td>0</td><td>0</td><td>0</td><td>1</td><td>0</td><td>0</td><td>1</td><td>0</td></tr><tr><td>2</td><td>65.0</td><td>2023-04-07</td><td>2023-04-12</td><td>18.9</td><td>193</td><td>0</td><td>0</td><td>0</td><td>0</td><td>2025-03-11</td><td>0</td><td>0</td><td>1</td><td>0</td><td>0</td><td>0</td><td>1</td><td>1</td><td>0</td><td>0</td><td>0</td><td>1</td><td>0</td><td>0</td><td>0</td><td>0</td><td>1</td></tr><tr><td>3</td><td>51.0</td><td>2016-02-07</td><td>2016-02-13</td><td>34.6</td><td>249</td><td>1</td><td>1</td><td>1</td><td>0</td><td>2017-04-14</td><td>1</td><td>1</td><td>0</td><td>0</td><td>0</td><td>1</td><td>0</td><td>0</td><td>1</td><td>0</td><td>1</td><td>0</td><td>0</td><td>0</td><td>0</td><td>0</td><td>1</td></tr><tr><td>4</td><td>37.0</td><td>2023-12-01</td><td>2023-12-03</td><td>40.2</td><td>262</td><td>0</td><td>0</td><td>0</td><td>0</td><td>2024-09-20</td><td>0</td><td>0</td><td>1</td><td>1</td><td>0</td><td>0</td><td>0</td><td>0</td><td>1</td><td>0</td><td>0</td><td>1</td><td>0</td><td>1</td><td>0</td><td>0</td><td>0</td></tr><tr><td>5</td><td>50.0</td><td>2023-01-04</td><td>2023-01-12</td><td>32.6</td><td>300</td><td>1</td><td>1</td><td>0</td><td>0</td><td>2024-03-11</td><td>0</td><td>0</td><td>1</td><td>0</td><td>1</td><td>0</td><td>0</td><td>0</td><td>1</td><td>0</td><td>0</td><td>1</td><td>0</td><td>0</td><td>0</td><td>1</td><td>0</td></tr><tr><td>6</td><td>49.0</td><td>2018-05-23</td><td>2018-05-30</td><td>30.1</td><td>300</td><td>1</td><td>1</td><td>0</td><td>1</td><td>2019-07-07</td><td>0</td><td>0</td><td>1</td><td>0</td><td>0</td><td>0</td><td>1</td><td>1</td><td>0</td><td>0</td><td>1</td><td>0</td><td>0</td><td>1</td><td>0</td><td>0</td><td>0</td></tr><tr><td>7</td><td>51.0</td><td>2017-02-20</td><td>2017-02-23</td><td>44.3</td><td>244</td><td>1</td><td>0</td><td>0</td><td>0</td><td>2018-10-09</td><td>0</td><td>1</td><td>0</td><td>0</td><td>1</td><td>0</td><td>0</td><td>0</td><td>1</td><td>0</td><td>1</td><td>0</td><td>0</td><td>0</td><td>1</td><td>0</td><td>0</td></tr><tr><td>8</td><td>64.0</td><td>2021-03-23</td><td>2021-04-03</td><td>26.9</td><td>161</td><td>1</td><td>0</td><td>0</td><td>0</td><td>2023-02-13</td><td>0</td><td>1</td><td>0</td><td>1</td><td>0</td><td>0</td><td>0</td><td>0</td><td>1</td><td>0</td><td>0</td><td>0</td><td>1</td><td>0</td><td>0</td><td>0</td><td>1</td></tr><tr><td>9</td><td>56.0</td><td>2021-12-02</td><td>2021-12-04</td><td>40.9</td><td>286</td><td>1</td><td>1</td><td>0</td><td>0</td><td>2023-07-07</td><td>1</td><td>0</td><td>1</td><td>0</td><td>0</td><td>1</td><td>0</td><td>0</td><td>1</td><td>0</td><td>0</td><td>0</td><td>1</td><td>1</td><td>0</td><td>0</td><td>0</td></tr><tr><td>10</td><td>48.0</td><td>2023-12-26</td><td>2024-01-08</td><td>16.2</td><td>223</td><td>1</td><td>1</td><td>1</td><td>0</td><td>2025-08-20</td><td>0</td><td>1</td><td>0</td><td>0</td><td>1</td><td>0</td><td>0</td><td>0</td><td>1</td><td>0</td><td>0</td><td>0</td><td>1</td><td>0</td><td>0</td><td>0</td><td>1</td></tr><tr><td>11</td><td>47.0</td><td>2019-11-20</td><td>2019-11-23</td><td>33.0</td><td>266</td><td>1</td><td>0</td><td>0</td><td>0</td><td>2021-02-13</td><td>0</td><td>1</td><td>0</td><td>0</td><td>1</td><td>0</td><td>0</td><td>0</td><td>1</td><td>0</td><td>0</td><td>0</td><td>1</td><td>1</td><td>0</td><td>0</td><td>0</td></tr><tr><td>12</td><td>67.0</td><td>2024-05-28</td><td>2024-06-04</td><td>17.4</td><td>204</td><td>1</td><td>0</td><td>0</td><td>0</td><td>2026-02-16</td><td>0</td><td>1</td><td>0</td><td>1</td><td>0</td><td>0</td><td>0</td><td>1</td><td>0</td><td>0</td><td>0</td><td>1</td><td>0</td><td>0</td><td>0</td><td>0</td><td>1</td></tr><tr><td>13</td><td>56.0</td><td>2022-08-09</td><td>2022-08-15</td><td>17.9</td><td>211</td><td>1</td><td>1</td><td>0</td><td>1</td><td>2023-09-27</td><td>0</td><td>0</td><td>1</td><td>0</td><td>0</td><td>1</td><td>0</td><td>1</td><td>0</td><td>1</td><td>0</td><td>0</td><td>0</td><td>0</td><td>1</td><td>0</td><td>0</td></tr><tr><td>14</td><td>67.0</td><td>2023-04-14</td><td>2023-04-16</td><td>33.0</td><td>295</td><td>1</td><td>1</td><td>0</td><td>0</td><td>2025-01-24</td><td>0</td><td>0</td><td>1</td><td>0</td><td>0</td><td>1</td><td>0</td><td>1</td><td>0</td><td>0</td><td>1</td><td>0</td><td>0</td><td>1</td><td>0</td><td>0</td><td>0</td></tr><tr><td>15</td><td>49.0</td><td>2021-08-20</td><td>2021-08-24</td><td>37.5</td><td>244</td><td>1</td><td>1</td><td>0</td><td>0</td><td>2023-01-30</td><td>0</td><td>1</td><td>0</td><td>1</td><td>0</td><td>0</td><td>0</td><td>0</td><td>1</td><td>1</td><td>0</td><td>0</td><td>0</td><td>0</td><td>1</td><td>0</td><td>0</td></tr><tr><td>16</td><td>48.0</td><td>2020-02-29</td><td>2020-03-13</td><td>40.1</td><td>251</td><td>1</td><td>1</td><td>0</td><td>0</td><td>2021-07-04</td><td>1</td><td>1</td><td>0</td><td>1</td><td>0</td><td>0</td><td>0</td><td>1</td><td>0</td><td>0</td><td>0</td><td>0</td><td>1</td><td>0</td><td>0</td><td>0</td><td>1</td></tr><tr><td>17</td><td>45.0</td><td>2017-08-09</td><td>2017-08-14</td><td>37.9</td><td>251</td><td>1</td><td>1</td><td>0</td><td>0</td><td>2018-05-24</td><td>1</td><td>0</td><td>1</td><td>0</td><td>0</td><td>0</td><td>1</td><td>1</td><td>0</td><td>0</td><td>1</td><td>0</td><td>0</td><td>1</td><td>0</td><td>0</td><td>0</td></tr><tr><td>18</td><td>47.0</td><td>2015-08-15</td><td>2015-08-16</td><td>34.5</td><td>243</td><td>1</td><td>1</td><td>0</td><td>0</td><td>2017-01-02</td><td>0</td><td>0</td><td>1</td><td>0</td><td>1</td><td>0</td><td>0</td><td>0</td><td>1</td><td>0</td><td>0</td><td>0</td><td>1</td><td>1</td><td>0</td><td>0</td><td>0</td></tr><tr><td>19</td><td>56.0</td><td>2014-07-01</td><td>2014-07-03</td><td>31.2</td><td>268</td><td>1</td><td>0</td><td>0</td><td>0</td><td>2015-08-29</td><td>0</td><td>0</td><td>1</td><td>0</td><td>0</td><td>0</td><td>1</td><td>1</td><td>0</td><td>0</td><td>0</td><td>0</td><td>1</td><td>0</td><td>1</td><td>0</td><td>0</td></tr><tr><td>20</td><td>46.0</td><td>2015-07-30</td><td>2015-08-03</td><td>31.8</td><td>251</td><td>1</td><td>0</td><td>0</td><td>0</td><td>2016-08-29</td><td>0</td><td>1</td><td>0</td><td>0</td><td>0</td><td>0</td><td>1</td><td>1</td><td>0</td><td>0</td><td>0</td><td>0</td><td>1</td><td>0</td><td>1</td><td>0</td><td>0</td></tr></table><br /><pre>only showing top 20 rows\n",
       "\n",
       "/mnt1/yarn/usercache/livy/appcache/application_1722220953791_0003/container_1722220953791_0003_01_000001/pyspark.zip/pyspark/pandas/utils.py:975: PandasAPIOnSparkAdviceWarning: If `index_col` is not specified for `to_spark`, the existing index is lost when converting to Spark DataFrame.\n",
       "  warnings.warn(message, PandasAPIOnSparkAdviceWarning)</pre>"
      ],
      "text/plain": [
       "<IPython.core.display.HTML object>"
      ]
     },
     "metadata": {},
     "output_type": "display_data"
    }
   ],
   "source": [
    "%%pretty\n",
    "df.to_spark().show()"
   ]
  },
  {
   "cell_type": "code",
   "execution_count": 36,
   "id": "3f7f1612",
   "metadata": {},
   "outputs": [
    {
     "data": {
      "application/vnd.jupyter.widget-view+json": {
       "model_id": "fe3821fc18e6433594ad4c57518ccb4e",
       "version_major": 2,
       "version_minor": 0
      },
      "text/plain": [
       "VBox()"
      ]
     },
     "metadata": {},
     "output_type": "display_data"
    },
    {
     "data": {
      "application/vnd.jupyter.widget-view+json": {
       "model_id": "",
       "version_major": 2,
       "version_minor": 0
      },
      "text/plain": [
       "FloatProgress(value=0.0, bar_style='info', description='Progress:', layout=Layout(height='25px', width='50%'),…"
      ]
     },
     "metadata": {},
     "output_type": "display_data"
    },
    {
     "name": "stdout",
     "output_type": "stream",
     "text": [
      "(10000, 28)"
     ]
    }
   ],
   "source": [
    "#check again, make sure dataset shape is 10000\n",
    "df.shape"
   ]
  },
  {
   "cell_type": "code",
   "execution_count": 37,
   "id": "0f461f11",
   "metadata": {},
   "outputs": [
    {
     "data": {
      "application/vnd.jupyter.widget-view+json": {
       "model_id": "2546b87d33434a0385809bb6233335a3",
       "version_major": 2,
       "version_minor": 0
      },
      "text/plain": [
       "VBox()"
      ]
     },
     "metadata": {},
     "output_type": "display_data"
    },
    {
     "data": {
      "application/vnd.jupyter.widget-view+json": {
       "model_id": "",
       "version_major": 2,
       "version_minor": 0
      },
      "text/plain": [
       "FloatProgress(value=0.0, bar_style='info', description='Progress:', layout=Layout(height='25px', width='50%'),…"
      ]
     },
     "metadata": {},
     "output_type": "display_data"
    },
    {
     "name": "stdout",
     "output_type": "stream",
     "text": [
      "/mnt1/yarn/usercache/livy/appcache/application_1722220953791_0003/container_1722220953791_0003_01_000001/pyspark.zip/pyspark/pandas/utils.py:975: PandasAPIOnSparkAdviceWarning: `to_pandas` loads all data into the driver's memory. It should only be used if the resulting pandas DataFrame is expected to be small.\n",
      "  warnings.warn(message, PandasAPIOnSparkAdviceWarning)"
     ]
    }
   ],
   "source": [
    "#ps to pd\n",
    "import pandas as pd\n",
    "df = df.to_pandas()"
   ]
  },
  {
   "cell_type": "code",
   "execution_count": 38,
   "id": "46b25de5",
   "metadata": {},
   "outputs": [
    {
     "data": {
      "application/vnd.jupyter.widget-view+json": {
       "model_id": "f97e833417e34eda8bf1465487700fec",
       "version_major": 2,
       "version_minor": 0
      },
      "text/plain": [
       "VBox()"
      ]
     },
     "metadata": {},
     "output_type": "display_data"
    },
    {
     "data": {
      "application/vnd.jupyter.widget-view+json": {
       "model_id": "",
       "version_major": 2,
       "version_minor": 0
      },
      "text/plain": [
       "FloatProgress(value=0.0, bar_style='info', description='Progress:', layout=Layout(height='25px', width='50%'),…"
      ]
     },
     "metadata": {},
     "output_type": "display_data"
    }
   ],
   "source": [
    "import pandas as pd\n",
    "df['beginning_of_treatment_date'] = pd.to_datetime(df['beginning_of_treatment_date'])\n",
    "df['end_treatment_date'] = pd.to_datetime(df['end_treatment_date'])\n",
    "df['duration'] = (df['end_treatment_date'] - df['beginning_of_treatment_date']).dt.days"
   ]
  },
  {
   "cell_type": "code",
   "execution_count": 39,
   "id": "297a2312",
   "metadata": {},
   "outputs": [
    {
     "data": {
      "application/vnd.jupyter.widget-view+json": {
       "model_id": "b94c0b4b3b5e463283de413dbe776f7c",
       "version_major": 2,
       "version_minor": 0
      },
      "text/plain": [
       "VBox()"
      ]
     },
     "metadata": {},
     "output_type": "display_data"
    },
    {
     "data": {
      "application/vnd.jupyter.widget-view+json": {
       "model_id": "",
       "version_major": 2,
       "version_minor": 0
      },
      "text/plain": [
       "FloatProgress(value=0.0, bar_style='info', description='Progress:', layout=Layout(height='25px', width='50%'),…"
      ]
     },
     "metadata": {},
     "output_type": "display_data"
    }
   ],
   "source": [
    "#drop 'diagnosis_date','beginning_of_treatment_date','end_treatment_date' column\n",
    "df = df.drop(columns=['diagnosis_date','beginning_of_treatment_date','end_treatment_date'])"
   ]
  },
  {
   "cell_type": "code",
   "execution_count": 40,
   "id": "ac6648b6",
   "metadata": {},
   "outputs": [
    {
     "data": {
      "application/vnd.jupyter.widget-view+json": {
       "model_id": "6793165525c043169232c403cabcf3cc",
       "version_major": 2,
       "version_minor": 0
      },
      "text/plain": [
       "VBox()"
      ]
     },
     "metadata": {},
     "output_type": "display_data"
    },
    {
     "data": {
      "application/vnd.jupyter.widget-view+json": {
       "model_id": "",
       "version_major": 2,
       "version_minor": 0
      },
      "text/plain": [
       "FloatProgress(value=0.0, bar_style='info', description='Progress:', layout=Layout(height='25px', width='50%'),…"
      ]
     },
     "metadata": {},
     "output_type": "display_data"
    },
    {
     "name": "stdout",
     "output_type": "stream",
     "text": [
      "+---+----+----+-----------------+------------+------+---------+------------+--------+-------------+-----------+--------------------+---------------------+----------------------+---------------------+-----------------+------------------+-----------------------------+----------------------------+---------------------------+-----------------------------+---------------------------+-----------------------+------------------------+----------------------+--------+\n",
      "|_c0| age| bmi|cholesterol_level|hypertension|asthma|cirrhosis|other_cancer|survived|gender_Female|gender_Male|cancer_stage_Stage I|cancer_stage_Stage II|cancer_stage_Stage III|cancer_stage_Stage IV|family_history_No|family_history_Yes|smoking_status_Current Smoker|smoking_status_Former Smoker|smoking_status_Never Smoked|smoking_status_Passive Smoker|treatment_type_Chemotherapy|treatment_type_Combined|treatment_type_Radiation|treatment_type_Surgery|duration|\n",
      "+---+----+----+-----------------+------------+------+---------+------------+--------+-------------+-----------+--------------------+---------------------+----------------------+---------------------+-----------------+------------------+-----------------------------+----------------------------+---------------------------+-----------------------------+---------------------------+-----------------------+------------------------+----------------------+--------+\n",
      "|  1|50.0|25.9|              208|           1|     0|        0|           0|       0|            0|          1|                   0|                    0|                     1|                    0|                0|                 1|                            0|                           0|                          0|                            1|                          0|                      0|                       1|                     0|     359|\n",
      "|  2|65.0|18.9|              193|           0|     0|        0|           0|       0|            0|          1|                   0|                    0|                     0|                    1|                1|                 0|                            0|                           0|                          1|                            0|                          0|                      0|                       0|                     1|     699|\n",
      "|  3|51.0|34.6|              249|           1|     1|        1|           0|       1|            1|          0|                   0|                    0|                     1|                    0|                0|                 1|                            0|                           1|                          0|                            0|                          0|                      0|                       0|                     1|     426|\n",
      "|  4|37.0|40.2|              262|           0|     0|        0|           0|       0|            0|          1|                   1|                    0|                     0|                    0|                0|                 1|                            0|                           0|                          1|                            0|                          1|                      0|                       0|                     0|     292|\n",
      "|  5|50.0|32.6|              300|           1|     1|        0|           0|       0|            0|          1|                   0|                    1|                     0|                    0|                0|                 1|                            0|                           0|                          1|                            0|                          0|                      0|                       1|                     0|     424|\n",
      "|  6|49.0|30.1|              300|           1|     1|        0|           1|       0|            0|          1|                   0|                    0|                     0|                    1|                1|                 0|                            0|                           1|                          0|                            0|                          1|                      0|                       0|                     0|     403|\n",
      "|  7|51.0|44.3|              244|           1|     0|        0|           0|       0|            1|          0|                   0|                    1|                     0|                    0|                0|                 1|                            0|                           1|                          0|                            0|                          0|                      1|                       0|                     0|     593|\n",
      "|  8|64.0|26.9|              161|           1|     0|        0|           0|       0|            1|          0|                   1|                    0|                     0|                    0|                0|                 1|                            0|                           0|                          0|                            1|                          0|                      0|                       0|                     1|     681|\n",
      "|  9|56.0|40.9|              286|           1|     1|        0|           0|       1|            0|          1|                   0|                    0|                     1|                    0|                0|                 1|                            0|                           0|                          0|                            1|                          1|                      0|                       0|                     0|     580|\n",
      "| 10|48.0|16.2|              223|           1|     1|        1|           0|       0|            1|          0|                   0|                    1|                     0|                    0|                0|                 1|                            0|                           0|                          0|                            1|                          0|                      0|                       0|                     1|     590|\n",
      "| 11|47.0|33.0|              266|           1|     0|        0|           0|       0|            1|          0|                   0|                    1|                     0|                    0|                0|                 1|                            0|                           0|                          0|                            1|                          1|                      0|                       0|                     0|     448|\n",
      "| 12|67.0|17.4|              204|           1|     0|        0|           0|       0|            1|          0|                   1|                    0|                     0|                    0|                1|                 0|                            0|                           0|                          1|                            0|                          0|                      0|                       0|                     1|     622|\n",
      "| 13|56.0|17.9|              211|           1|     1|        0|           1|       0|            0|          1|                   0|                    0|                     1|                    0|                1|                 0|                            1|                           0|                          0|                            0|                          0|                      1|                       0|                     0|     408|\n",
      "| 14|67.0|33.0|              295|           1|     1|        0|           0|       0|            0|          1|                   0|                    0|                     1|                    0|                1|                 0|                            0|                           1|                          0|                            0|                          1|                      0|                       0|                     0|     649|\n",
      "| 15|49.0|37.5|              244|           1|     1|        0|           0|       0|            1|          0|                   1|                    0|                     0|                    0|                0|                 1|                            1|                           0|                          0|                            0|                          0|                      1|                       0|                     0|     524|\n",
      "| 16|48.0|40.1|              251|           1|     1|        0|           0|       1|            1|          0|                   1|                    0|                     0|                    0|                1|                 0|                            0|                           0|                          0|                            1|                          0|                      0|                       0|                     1|     478|\n",
      "| 17|45.0|37.9|              251|           1|     1|        0|           0|       1|            0|          1|                   0|                    0|                     0|                    1|                1|                 0|                            0|                           1|                          0|                            0|                          1|                      0|                       0|                     0|     283|\n",
      "| 18|47.0|34.5|              243|           1|     1|        0|           0|       0|            0|          1|                   0|                    1|                     0|                    0|                0|                 1|                            0|                           0|                          0|                            1|                          1|                      0|                       0|                     0|     505|\n",
      "| 19|56.0|31.2|              268|           1|     0|        0|           0|       0|            0|          1|                   0|                    0|                     0|                    1|                1|                 0|                            0|                           0|                          0|                            1|                          0|                      1|                       0|                     0|     422|\n",
      "| 20|46.0|31.8|              251|           1|     0|        0|           0|       0|            1|          0|                   0|                    0|                     0|                    1|                1|                 0|                            0|                           0|                          0|                            1|                          0|                      1|                       0|                     0|     392|\n",
      "+---+----+----+-----------------+------------+------+---------+------------+--------+-------------+-----------+--------------------+---------------------+----------------------+---------------------+-----------------+------------------+-----------------------------+----------------------------+---------------------------+-----------------------------+---------------------------+-----------------------+------------------------+----------------------+--------+\n",
      "only showing top 20 rows\n",
      "\n",
      "/mnt1/yarn/usercache/livy/appcache/application_1722220953791_0003/container_1722220953791_0003_01_000001/pyspark.zip/pyspark/pandas/utils.py:975: PandasAPIOnSparkAdviceWarning: If `index_col` is not specified for `to_spark`, the existing index is lost when converting to Spark DataFrame.\n",
      "  warnings.warn(message, PandasAPIOnSparkAdviceWarning)"
     ]
    }
   ],
   "source": [
    "#panda to pyspark.pandas\n",
    "psdf = ps.from_pandas(df)\n",
    "spark_df = psdf.to_spark()\n",
    "spark_df.show()"
   ]
  },
  {
   "cell_type": "code",
   "execution_count": 41,
   "id": "0410e3b1",
   "metadata": {},
   "outputs": [
    {
     "data": {
      "application/vnd.jupyter.widget-view+json": {
       "model_id": "7ead4280798f4548b186dec6c0fe67dc",
       "version_major": 2,
       "version_minor": 0
      },
      "text/plain": [
       "VBox()"
      ]
     },
     "metadata": {},
     "output_type": "display_data"
    },
    {
     "data": {
      "application/vnd.jupyter.widget-view+json": {
       "model_id": "",
       "version_major": 2,
       "version_minor": 0
      },
      "text/plain": [
       "FloatProgress(value=0.0, bar_style='info', description='Progress:', layout=Layout(height='25px', width='50%'),…"
      ]
     },
     "metadata": {},
     "output_type": "display_data"
    }
   ],
   "source": [
    "# Convert columns to list of strings\n",
    "# Exclude '_c0', 'duration', and 'survived'\n",
    "feature_columns = [col for col in spark_df.columns if col not in ['_c0', 'duration', 'survived']]\n",
    "\n",
    "# Assemble feature vector\n",
    "assembler = VectorAssembler(inputCols=feature_columns, outputCol=\"features\")\n",
    "data = assembler.transform(spark_df)\n",
    "\n",
    "# Select features and label for classification\n",
    "classification_data = data.select(col(\"features\"), col(\"survived\").alias(\"label\"))\n",
    "\n",
    "# Split data into training and test sets for classification\n",
    "train_data, test_data = classification_data.randomSplit([0.7, 0.3], seed=1234)"
   ]
  },
  {
   "cell_type": "code",
   "execution_count": 42,
   "id": "049f5d92",
   "metadata": {},
   "outputs": [
    {
     "data": {
      "application/vnd.jupyter.widget-view+json": {
       "model_id": "eee626e73a424acfb6ae5ae4ec071df8",
       "version_major": 2,
       "version_minor": 0
      },
      "text/plain": [
       "VBox()"
      ]
     },
     "metadata": {},
     "output_type": "display_data"
    },
    {
     "data": {
      "application/vnd.jupyter.widget-view+json": {
       "model_id": "",
       "version_major": 2,
       "version_minor": 0
      },
      "text/plain": [
       "FloatProgress(value=0.0, bar_style='info', description='Progress:', layout=Layout(height='25px', width='50%'),…"
      ]
     },
     "metadata": {},
     "output_type": "display_data"
    },
    {
     "name": "stdout",
     "output_type": "stream",
     "text": [
      "+--------------------+-----+--------------------+--------------------+----------+\n",
      "|            features|label|       rawPrediction|         probability|prediction|\n",
      "+--------------------+-----+--------------------+--------------------+----------+\n",
      "|(23,[0,1,2,3,4,5,...|    0|[81.9100848727748...|[0.81910084872774...|       0.0|\n",
      "|(23,[0,1,2,3,4,5,...|    0|[83.2258291611228...|[0.83225829161122...|       0.0|\n",
      "|(23,[0,1,2,3,4,5,...|    0|[78.8880715409823...|[0.78888071540982...|       0.0|\n",
      "|(23,[0,1,2,3,4,5,...|    0|[79.6616414976214...|[0.79661641497621...|       0.0|\n",
      "|(23,[0,1,2,3,4,5,...|    1|[78.9646823296859...|[0.78964682329686...|       0.0|\n",
      "|(23,[0,1,2,3,4,5,...|    0|[83.0949298144143...|[0.83094929814414...|       0.0|\n",
      "|(23,[0,1,2,3,4,5,...|    1|[79.8667851672657...|[0.79866785167265...|       0.0|\n",
      "|(23,[0,1,2,3,4,5,...|    0|[79.3587258722448...|[0.79358725872244...|       0.0|\n",
      "|(23,[0,1,2,3,4,5,...|    0|[80.5376835973128...|[0.80537683597312...|       0.0|\n",
      "|(23,[0,1,2,3,4,5,...|    0|[77.2602155098441...|[0.77260215509844...|       0.0|\n",
      "|(23,[0,1,2,3,4,5,...|    1|[76.3100514077231...|[0.76310051407723...|       0.0|\n",
      "|(23,[0,1,2,3,4,5,...|    0|[80.1632459112597...|[0.80163245911259...|       0.0|\n",
      "|(23,[0,1,2,3,4,5,...|    0|[72.2783617739442...|[0.72278361773944...|       0.0|\n",
      "|(23,[0,1,2,3,4,5,...|    0|[75.1689962839512...|[0.75168996283951...|       0.0|\n",
      "|(23,[0,1,2,3,4,5,...|    0|[75.6945240805004...|[0.75694524080500...|       0.0|\n",
      "|(23,[0,1,2,3,4,5,...|    1|[73.1156226862441...|[0.73115622686244...|       0.0|\n",
      "|(23,[0,1,2,3,4,5,...|    0|[79.9631073473924...|[0.79963107347392...|       0.0|\n",
      "|(23,[0,1,2,3,4,5,...|    0|[79.7375588382487...|[0.79737558838248...|       0.0|\n",
      "|(23,[0,1,2,3,4,5,...|    0|[75.4660250315708...|[0.75466025031570...|       0.0|\n",
      "|(23,[0,1,2,3,4,5,...|    0|[72.2318620929354...|[0.72231862092935...|       0.0|\n",
      "+--------------------+-----+--------------------+--------------------+----------+\n",
      "only showing top 20 rows\n",
      "\n",
      "Accuracy: 0.7761194029850746"
     ]
    }
   ],
   "source": [
    "# Initialize RandomForestClassifier\n",
    "rf = RandomForestClassifier(labelCol=\"label\", featuresCol=\"features\", numTrees=100, maxDepth=10)\n",
    "\n",
    "# Train the model\n",
    "rf_model = rf.fit(train_data)\n",
    "\n",
    "# Make predictions on the test set\n",
    "predictions = rf_model.transform(test_data)\n",
    "predictions.show()\n",
    "\n",
    "# Evaluate model\n",
    "evaluator = MulticlassClassificationEvaluator(labelCol=\"label\", predictionCol=\"prediction\", metricName=\"accuracy\")\n",
    "accuracy = evaluator.evaluate(predictions)\n",
    "\n",
    "print(f\"Accuracy: {accuracy}\")"
   ]
  },
  {
   "cell_type": "code",
   "execution_count": 43,
   "id": "49dad064",
   "metadata": {},
   "outputs": [
    {
     "data": {
      "application/vnd.jupyter.widget-view+json": {
       "model_id": "2869dacdfe1b4149bf2b9fd0cc6be431",
       "version_major": 2,
       "version_minor": 0
      },
      "text/plain": [
       "VBox()"
      ]
     },
     "metadata": {},
     "output_type": "display_data"
    },
    {
     "data": {
      "application/vnd.jupyter.widget-view+json": {
       "model_id": "",
       "version_major": 2,
       "version_minor": 0
      },
      "text/plain": [
       "FloatProgress(value=0.0, bar_style='info', description='Progress:', layout=Layout(height='25px', width='50%'),…"
      ]
     },
     "metadata": {},
     "output_type": "display_data"
    },
    {
     "data": {
      "image/png": "[encoded data removed]",
      "text/plain": [
       "<IPython.core.display.Image object>"
      ]
     },
     "metadata": {},
     "output_type": "display_data"
    }
   ],
   "source": [
    "# Plot Classification Accuracy\n",
    "plt.figure(figsize=(8, 6))\n",
    "plt.bar(['Classification Accuracy'], [accuracy], color='lightgreen')\n",
    "plt.title('Classification Accuracy for RandomForest')\n",
    "plt.ylabel('Accuracy')\n",
    "plt.ylim(0, 1)\n",
    "plt.show()\n",
    "%matplot plt"
   ]
  },
  {
   "cell_type": "code",
   "execution_count": 44,
   "id": "7d5009ed",
   "metadata": {},
   "outputs": [
    {
     "data": {
      "application/vnd.jupyter.widget-view+json": {
       "model_id": "faaf4c7798404f6481b958f44bb071f7",
       "version_major": 2,
       "version_minor": 0
      },
      "text/plain": [
       "VBox()"
      ]
     },
     "metadata": {},
     "output_type": "display_data"
    },
    {
     "data": {
      "application/vnd.jupyter.widget-view+json": {
       "model_id": "",
       "version_major": 2,
       "version_minor": 0
      },
      "text/plain": [
       "FloatProgress(value=0.0, bar_style='info', description='Progress:', layout=Layout(height='25px', width='50%'),…"
      ]
     },
     "metadata": {},
     "output_type": "display_data"
    },
    {
     "name": "stdout",
     "output_type": "stream",
     "text": [
      "+---+----+----+-----------------+------------+------+---------+------------+--------+-------------+-----------+--------------------+---------------------+----------------------+---------------------+-----------------+------------------+-----------------------------+----------------------------+---------------------------+-----------------------------+---------------------------+-----------------------+------------------------+----------------------+--------+--------------------+----------+\n",
      "|_c0| age| bmi|cholesterol_level|hypertension|asthma|cirrhosis|other_cancer|survived|gender_Female|gender_Male|cancer_stage_Stage I|cancer_stage_Stage II|cancer_stage_Stage III|cancer_stage_Stage IV|family_history_No|family_history_Yes|smoking_status_Current Smoker|smoking_status_Former Smoker|smoking_status_Never Smoked|smoking_status_Passive Smoker|treatment_type_Chemotherapy|treatment_type_Combined|treatment_type_Radiation|treatment_type_Surgery|duration|            features|prediction|\n",
      "+---+----+----+-----------------+------------+------+---------+------------+--------+-------------+-----------+--------------------+---------------------+----------------------+---------------------+-----------------+------------------+-----------------------------+----------------------------+---------------------------+-----------------------------+---------------------------+-----------------------+------------------------+----------------------+--------+--------------------+----------+\n",
      "|  1|50.0|25.9|              208|           1|     0|        0|           0|       0|            0|          1|                   0|                    0|                     1|                    0|                0|                 1|                            0|                           0|                          0|                            1|                          0|                      0|                       1|                     0|     359|(23,[0,1,2,3,8,11...|         2|\n",
      "|  2|65.0|18.9|              193|           0|     0|        0|           0|       0|            0|          1|                   0|                    0|                     0|                    1|                1|                 0|                            0|                           0|                          1|                            0|                          0|                      0|                       0|                     1|     699|(23,[0,1,2,8,12,1...|         0|\n",
      "|  3|51.0|34.6|              249|           1|     1|        1|           0|       1|            1|          0|                   0|                    0|                     1|                    0|                0|                 1|                            0|                           1|                          0|                            0|                          0|                      0|                       0|                     1|     426|(23,[0,1,2,3,4,5,...|         2|\n",
      "|  4|37.0|40.2|              262|           0|     0|        0|           0|       0|            0|          1|                   1|                    0|                     0|                    0|                0|                 1|                            0|                           0|                          1|                            0|                          1|                      0|                       0|                     0|     292|(23,[0,1,2,8,9,14...|         1|\n",
      "|  5|50.0|32.6|              300|           1|     1|        0|           0|       0|            0|          1|                   0|                    1|                     0|                    0|                0|                 1|                            0|                           0|                          1|                            0|                          0|                      0|                       1|                     0|     424|(23,[0,1,2,3,4,8,...|         1|\n",
      "|  6|49.0|30.1|              300|           1|     1|        0|           1|       0|            0|          1|                   0|                    0|                     0|                    1|                1|                 0|                            0|                           1|                          0|                            0|                          1|                      0|                       0|                     0|     403|(23,[0,1,2,3,4,6,...|         1|\n",
      "|  7|51.0|44.3|              244|           1|     0|        0|           0|       0|            1|          0|                   0|                    1|                     0|                    0|                0|                 1|                            0|                           1|                          0|                            0|                          0|                      1|                       0|                     0|     593|(23,[0,1,2,3,7,10...|         2|\n",
      "|  8|64.0|26.9|              161|           1|     0|        0|           0|       0|            1|          0|                   1|                    0|                     0|                    0|                0|                 1|                            0|                           0|                          0|                            1|                          0|                      0|                       0|                     1|     681|(23,[0,1,2,3,7,9,...|         0|\n",
      "|  9|56.0|40.9|              286|           1|     1|        0|           0|       1|            0|          1|                   0|                    0|                     1|                    0|                0|                 1|                            0|                           0|                          0|                            1|                          1|                      0|                       0|                     0|     580|(23,[0,1,2,3,4,8,...|         1|\n",
      "| 10|48.0|16.2|              223|           1|     1|        1|           0|       0|            1|          0|                   0|                    1|                     0|                    0|                0|                 1|                            0|                           0|                          0|                            1|                          0|                      0|                       0|                     1|     590|(23,[0,1,2,3,4,5,...|         2|\n",
      "| 11|47.0|33.0|              266|           1|     0|        0|           0|       0|            1|          0|                   0|                    1|                     0|                    0|                0|                 1|                            0|                           0|                          0|                            1|                          1|                      0|                       0|                     0|     448|(23,[0,1,2,3,7,10...|         1|\n",
      "| 12|67.0|17.4|              204|           1|     0|        0|           0|       0|            1|          0|                   1|                    0|                     0|                    0|                1|                 0|                            0|                           0|                          1|                            0|                          0|                      0|                       0|                     1|     622|(23,[0,1,2,3,7,9,...|         0|\n",
      "| 13|56.0|17.9|              211|           1|     1|        0|           1|       0|            0|          1|                   0|                    0|                     1|                    0|                1|                 0|                            1|                           0|                          0|                            0|                          0|                      1|                       0|                     0|     408|(23,[0,1,2,3,4,6,...|         2|\n",
      "| 14|67.0|33.0|              295|           1|     1|        0|           0|       0|            0|          1|                   0|                    0|                     1|                    0|                1|                 0|                            0|                           1|                          0|                            0|                          1|                      0|                       0|                     0|     649|(23,[0,1,2,3,4,8,...|         1|\n",
      "| 15|49.0|37.5|              244|           1|     1|        0|           0|       0|            1|          0|                   1|                    0|                     0|                    0|                0|                 1|                            1|                           0|                          0|                            0|                          0|                      1|                       0|                     0|     524|(23,[0,1,2,3,4,7,...|         2|\n",
      "| 16|48.0|40.1|              251|           1|     1|        0|           0|       1|            1|          0|                   1|                    0|                     0|                    0|                1|                 0|                            0|                           0|                          0|                            1|                          0|                      0|                       0|                     1|     478|(23,[0,1,2,3,4,7,...|         2|\n",
      "| 17|45.0|37.9|              251|           1|     1|        0|           0|       1|            0|          1|                   0|                    0|                     0|                    1|                1|                 0|                            0|                           1|                          0|                            0|                          1|                      0|                       0|                     0|     283|(23,[0,1,2,3,4,8,...|         2|\n",
      "| 18|47.0|34.5|              243|           1|     1|        0|           0|       0|            0|          1|                   0|                    1|                     0|                    0|                0|                 1|                            0|                           0|                          0|                            1|                          1|                      0|                       0|                     0|     505|(23,[0,1,2,3,4,8,...|         2|\n",
      "| 19|56.0|31.2|              268|           1|     0|        0|           0|       0|            0|          1|                   0|                    0|                     0|                    1|                1|                 0|                            0|                           0|                          0|                            1|                          0|                      1|                       0|                     0|     422|(23,[0,1,2,3,8,12...|         1|\n",
      "| 20|46.0|31.8|              251|           1|     0|        0|           0|       0|            1|          0|                   0|                    0|                     0|                    1|                1|                 0|                            0|                           0|                          0|                            1|                          0|                      1|                       0|                     0|     392|(23,[0,1,2,3,7,12...|         2|\n",
      "+---+----+----+-----------------+------------+------+---------+------------+--------+-------------+-----------+--------------------+---------------------+----------------------+---------------------+-----------------+------------------+-----------------------------+----------------------------+---------------------------+-----------------------------+---------------------------+-----------------------+------------------------+----------------------+--------+--------------------+----------+\n",
      "only showing top 20 rows\n",
      "\n",
      "Silhouette with squared euclidean distance: 0.6698249255173816"
     ]
    }
   ],
   "source": [
    "# Initialize KMeans\n",
    "kmeans = KMeans(featuresCol='features', k=3)  # You can choose the number of clusters (k)\n",
    "\n",
    "# Train the model\n",
    "kmeans_model = kmeans.fit(data)\n",
    "\n",
    "# Make predictions\n",
    "kmeans_predictions = kmeans_model.transform(data)\n",
    "kmeans_predictions.show()\n",
    "\n",
    "# Evaluate clustering by computing Silhouette score\n",
    "evaluator = ClusteringEvaluator()\n",
    "\n",
    "silhouette = evaluator.evaluate(kmeans_predictions)\n",
    "print(f\"Silhouette with squared euclidean distance: {silhouette}\")"
   ]
  },
  {
   "cell_type": "code",
   "execution_count": 45,
   "id": "5b7307ef",
   "metadata": {},
   "outputs": [
    {
     "data": {
      "application/vnd.jupyter.widget-view+json": {
       "model_id": "b0bfbea7f1d543aabd50e0604bc973d0",
       "version_major": 2,
       "version_minor": 0
      },
      "text/plain": [
       "VBox()"
      ]
     },
     "metadata": {},
     "output_type": "display_data"
    },
    {
     "data": {
      "application/vnd.jupyter.widget-view+json": {
       "model_id": "",
       "version_major": 2,
       "version_minor": 0
      },
      "text/plain": [
       "FloatProgress(value=0.0, bar_style='info', description='Progress:', layout=Layout(height='25px', width='50%'),…"
      ]
     },
     "metadata": {},
     "output_type": "display_data"
    },
    {
     "data": {
      "image/png": "[encoded data removed]",
      "text/plain": [
       "<IPython.core.display.Image object>"
      ]
     },
     "metadata": {},
     "output_type": "display_data"
    }
   ],
   "source": [
    "plt.figure(figsize=(8, 6))\n",
    "plt.bar(['Silhouette Score'], [silhouette], color='skyblue')\n",
    "plt.title('Silhouette Score for KMeans Clustering')\n",
    "plt.ylabel('Silhouette Score')\n",
    "plt.ylim(0, 1)\n",
    "plt.show()\n",
    "%matplot plt"
   ]
  },
  {
   "cell_type": "code",
   "execution_count": null,
   "id": "0b11eb69",
   "metadata": {},
   "outputs": [],
   "source": []
  }
 ],
 "metadata": {
  "kernelspec": {
   "display_name": "PySpark",
   "language": "python",
   "name": "pysparkkernel"
  },
  "language_info": {
   "codemirror_mode": {
    "name": "python",
    "version": 3
   },
   "file_extension": ".py",
   "mimetype": "text/x-python",
   "name": "pyspark",
   "pygments_lexer": "python3"
  }
 },
 "nbformat": 4,
 "nbformat_minor": 5
}
